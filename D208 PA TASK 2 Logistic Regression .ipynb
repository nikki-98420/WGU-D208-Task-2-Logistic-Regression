{
 "cells": [
  {
   "cell_type": "markdown",
   "id": "fd0ff60f",
   "metadata": {},
   "source": [
    "### D208 Performance Assessment_NBM2_Task_2\n",
    "   \n",
    "   ### Multiple Regression for Predictive Modeling\n",
    "   \n",
    "  "
   ]
  },
  {
   "cell_type": "markdown",
   "id": "d3380396",
   "metadata": {},
   "source": [
    "#### Id No.: 010756950 \n",
    "#### Mentor: Eric Straw\n",
    "#### Date: 01/18/2023"
   ]
  },
  {
   "cell_type": "markdown",
   "id": "29495cb5",
   "metadata": {},
   "source": [
    "## Part I: Research Question"
   ]
  },
  {
   "cell_type": "markdown",
   "id": "bb291416",
   "metadata": {},
   "source": [
    "### A1. Research Question:\n",
    "\n",
    "Which variables are most important to predict which customers are at high risk of churn?"
   ]
  },
  {
   "cell_type": "markdown",
   "id": "c0b6f188",
   "metadata": {},
   "source": [
    "### A2. Objectives and Goals:\n",
    "\n",
    "Stakeholders in the organization will benefit from an analysis of the data because it gives a clear insight of which customers are at high risk of churn. This will help in better decision making which improve the business performance and also enhance the services to the customers."
   ]
  },
  {
   "cell_type": "markdown",
   "id": "9f3caa15",
   "metadata": {},
   "source": [
    "## Part II: Method Justification"
   ]
  },
  {
   "cell_type": "markdown",
   "id": "0d084350",
   "metadata": {},
   "source": [
    "### B1. Summary of Assumptions:\n",
    "\n",
    "Logistic regression assumes that the response variable only takes on two possible outcomes. Some examples include:\n",
    "- Yes or No\n",
    "- Male or Female\n",
    "- Pass or Fail \n",
    "(Zach. October, 2020. The 6 Assumptions of Logistic Regression.https://www.statology.org/assumptions-of-logistic-regression/) \n",
    "\n",
    "Logistic regression assumes that the observations in the dataset are independent of each other. That is, the observations should not come from repeated measurements of the same individual or be related to each other in any way. (Zach. October, 2020. The 6 Assumptions of Logistic Regression. https://www.statology.org/assumptions-of-logistic-regression/) \n",
    "\n",
    "Logistic regression assumes that there is no severe multicollinearity among the explanatory variables. (Zach. October, 2020. The 6 Assumptions of Logistic Regression. https://www.statology.org/assumptions-of-logistic-regression/) \n",
    "\n",
    "Logistic regression assumes that there are no extreme outliers or influential observations in the dataset. (Zach. October, 2020. The 6 Assumptions of Logistic Regression. https://www.statology.org/assumptions-of-logistic-regression/)\n",
    "\n",
    "Logistic regression assumes that there exists a linear relationship between each explanatory variable and the logit of the response variable. (Zach. October, 2020. The 6 Assumptions of Logistic Regression. https://www.statology.org/assumptions-of-logistic-regression/)\n",
    "\n",
    "Logistic regression assumes that the sample size of the dataset if large enough to draw valid conclusions from the fitted logistic regression model. (Zach. October, 2020. The 6 Assumptions of Logistic Regression. https://www.statology.org/assumptions-of-logistic-regression/)\n",
    "\n",
    "\n",
    "\n"
   ]
  },
  {
   "cell_type": "markdown",
   "id": "16d6119b",
   "metadata": {},
   "source": [
    "### B2. Tool Benefits:\n",
    "\n",
    "Python will be used to support the various phases of the analysis. Python can handle large dataset easier. It has large libraries that expand its visualization capabilities to do statistical analysis. It also allows the user to implement code solutions, manipulate the data, and create visual representations."
   ]
  },
  {
   "cell_type": "markdown",
   "id": "b629a3f8",
   "metadata": {},
   "source": [
    "### B3. Appropriate Technique:\n",
    "\n",
    "Logistic Regression is a statistical technique used for predictive modeling. Logistic Regression is a type of regression analysis, which means that it is used to predict a dependent variable based on one or more independent variables. (https://climbtheladder.com/, Aug,2022).\n",
    "\n",
    "Logistic regression is the appropriate technique which can be used to predict the likelihood of a customer churn, based on independent variables like children, age, income etc. "
   ]
  },
  {
   "cell_type": "markdown",
   "id": "7ad26ca1",
   "metadata": {},
   "source": [
    "## Part III: Data Preparation"
   ]
  },
  {
   "cell_type": "markdown",
   "id": "ef12035a",
   "metadata": {},
   "source": [
    "### C1. Data Goals:\n",
    "My data preparation and data manipulation goals will include:\n",
    "  - Read the data set into Python using Pandas read_csv command.\n",
    "  -\tEvaluate the data structure to gain a better understanding of the variables and data types.\n",
    "  - Name the data set as \"df_churn\".\n",
    "  - Rename the misleading variables.\t\n",
    "  - Check for the duplicate data using .duplicated() function and check for the null values using isnull() function.\n",
    "  - Replace the missing values with measures of central tendency (mean, median, mode) using imputation method.\n",
    "  - Check for the outliers using histogram or boxplot.\n",
    "  -\tSummaries of univariate and bivariate statistics."
   ]
  },
  {
   "cell_type": "markdown",
   "id": "5cdd05d9",
   "metadata": {},
   "source": [
    "### C2. Summary Statistics:\n",
    "\n",
    "- After the data set is imported into python, read the data set using pandas read_csv command, the output shows that the dateset consists of 50 original columns and 10,000 records.\n",
    "   - Columns such as User ID, Caseorder, Customer_id, Interaction, UID, City, State, County, Zip, Lat, Lng, Population, Area, TimeZone, Job, Marial, and PaymentMethod were removed from the dataframe.\n",
    "   - Binary categorial variables \"Yes/No\", \"Male/Female\" were encoded to 1/0.\n",
    "   - This results in 34 numerical independent variable including target variables.\n",
    "   - The dependent variable Churn is most relevant in decision making which is binary categorical with only two values, “Yes” or “No”. “Churn” will be the categorical target variable.\n",
    "   - “Children, Age, Income, Outage_sec_perweek, Email, Contacts, Yearly_equip_failure, Tenure, MonthlyCharge, Bandwidth_GB_Year\" is the continuous predictor variables.\n",
    "   - “Gender, Techie, Contract, Port_modem, InternetService, Phone, Multiple, OnlineSecurity, OnlineBackup, DeviceProtection, TechSupport, StreamingTV, StreamingMovies\" is the categorical predictor variables.\n",
    "   - The discrete ordinal variables (These variables are the survey questions provided using a rating system of 1 to 8 (1 = most important, 8 = least important)\n",
    "   - Now the dataset appeared to be cleaned leaving no null values or missing data.\n",
    "   - Boxplot and histogram were created to check for outliers and normal distribution.\n",
    "   - Histograms for \"Bandwidth_GB_Year\" & \"Tenure\" displayed a bimodal distributions, which also showed linear relationship in a scatterplot.\n",
    "   - The average age of customer is 53 years with standard deviation 20.70, has 2 children with standard deviation 2 and income of 39806.93 dollar with  standard  deviation 28199.92,  10 second per week outage, has less than one yearly equipment failures, and has a monthly charge of 172.53 dollar and uses 3392.34 gigabytes of data per year."
   ]
  },
  {
   "cell_type": "markdown",
   "id": "94e70c42",
   "metadata": {},
   "source": [
    "###  C3. Steps to Prepare Data:\n",
    "- Import dataset to Python dataframe.\n",
    "- Read dataset using Pandas pd.read_csv command.\n",
    "- Rename ambiguous variable naming.\n",
    "- Get a description, structure and data types of the dataframe.\n",
    "- Identify missing data or NaN and impute the missing data with the appropriate measures of central tendency (mean, median, mode).\n",
    "- View summary statistics.\n",
    "- Drop less meaningful columns from dataframe.\n",
    "- Identify outilers with boxplot and histogram.\n",
    "- Create dummy variables in order to encode categorical, yes/no data points into 1/0 numerical values.\n",
    "- View univariate & bivariate visualizations.\n",
    "- Finally, the prepared dataset will be extracted & provided as \"log_prepared_churn.csv\""
   ]
  },
  {
   "cell_type": "code",
   "execution_count": 1,
   "id": "0481a767",
   "metadata": {},
   "outputs": [],
   "source": [
    "# Standard data science imports\n",
    "import numpy as np\n",
    "import pandas as pd\n",
    "\n",
    "# Visualization libraries\n",
    "import seaborn as sns\n",
    "import matplotlib.pyplot as plt\n",
    "%matplotlib inline\n",
    "\n",
    "# Statistics packages\n",
    "import statsmodels.api as sm\n",
    "import statistics\n",
    "from scipy import stats\n",
    "\n",
    "# Scikit-learn\n",
    "import sklearn\n",
    "from sklearn import preprocessing\n",
    "from sklearn.linear_model import LogisticRegression\n",
    "from sklearn.model_selection import train_test_split\n",
    "\n",
    "# Ignore Warning Code\n",
    "import warnings\n",
    "warnings.filterwarnings('ignore')"
   ]
  },
  {
   "cell_type": "code",
   "execution_count": 2,
   "id": "c21d02e7",
   "metadata": {},
   "outputs": [],
   "source": [
    "# Load data set into Pandas dataframe\n",
    "df_churn = pd.read_csv('churn_clean.csv')\n",
    "\n",
    "# Rename last 8 survey columns for better description of variables\n",
    "df_churn.rename(columns = {'Item1':'TimelyResponse',\n",
    "'Item2':'Fixes',\n",
    "'Item3':'Replacements',\n",
    "'Item4':'Reliability',\n",
    "'Item5':'Options',\n",
    "'Item6':'Respectfulness',\n",
    "'Item7':'Courteous',\n",
    "'Item8':'Listening'},\n",
    "inplace=True)"
   ]
  },
  {
   "cell_type": "code",
   "execution_count": 3,
   "id": "5824fe82",
   "metadata": {},
   "outputs": [
    {
     "data": {
      "text/html": [
       "<div>\n",
       "<style scoped>\n",
       "    .dataframe tbody tr th:only-of-type {\n",
       "        vertical-align: middle;\n",
       "    }\n",
       "\n",
       "    .dataframe tbody tr th {\n",
       "        vertical-align: top;\n",
       "    }\n",
       "\n",
       "    .dataframe thead th {\n",
       "        text-align: right;\n",
       "    }\n",
       "</style>\n",
       "<table border=\"1\" class=\"dataframe\">\n",
       "  <thead>\n",
       "    <tr style=\"text-align: right;\">\n",
       "      <th></th>\n",
       "      <th>CaseOrder</th>\n",
       "      <th>Customer_id</th>\n",
       "      <th>Interaction</th>\n",
       "      <th>UID</th>\n",
       "      <th>City</th>\n",
       "      <th>State</th>\n",
       "      <th>County</th>\n",
       "      <th>Zip</th>\n",
       "      <th>Lat</th>\n",
       "      <th>Lng</th>\n",
       "      <th>...</th>\n",
       "      <th>MonthlyCharge</th>\n",
       "      <th>Bandwidth_GB_Year</th>\n",
       "      <th>TimelyResponse</th>\n",
       "      <th>Fixes</th>\n",
       "      <th>Replacements</th>\n",
       "      <th>Reliability</th>\n",
       "      <th>Options</th>\n",
       "      <th>Respectfulness</th>\n",
       "      <th>Courteous</th>\n",
       "      <th>Listening</th>\n",
       "    </tr>\n",
       "  </thead>\n",
       "  <tbody>\n",
       "    <tr>\n",
       "      <th>0</th>\n",
       "      <td>1</td>\n",
       "      <td>K409198</td>\n",
       "      <td>aa90260b-4141-4a24-8e36-b04ce1f4f77b</td>\n",
       "      <td>e885b299883d4f9fb18e39c75155d990</td>\n",
       "      <td>Point Baker</td>\n",
       "      <td>AK</td>\n",
       "      <td>Prince of Wales-Hyder</td>\n",
       "      <td>99927</td>\n",
       "      <td>56.25100</td>\n",
       "      <td>-133.37571</td>\n",
       "      <td>...</td>\n",
       "      <td>172.455519</td>\n",
       "      <td>904.536110</td>\n",
       "      <td>5</td>\n",
       "      <td>5</td>\n",
       "      <td>5</td>\n",
       "      <td>3</td>\n",
       "      <td>4</td>\n",
       "      <td>4</td>\n",
       "      <td>3</td>\n",
       "      <td>4</td>\n",
       "    </tr>\n",
       "    <tr>\n",
       "      <th>1</th>\n",
       "      <td>2</td>\n",
       "      <td>S120509</td>\n",
       "      <td>fb76459f-c047-4a9d-8af9-e0f7d4ac2524</td>\n",
       "      <td>f2de8bef964785f41a2959829830fb8a</td>\n",
       "      <td>West Branch</td>\n",
       "      <td>MI</td>\n",
       "      <td>Ogemaw</td>\n",
       "      <td>48661</td>\n",
       "      <td>44.32893</td>\n",
       "      <td>-84.24080</td>\n",
       "      <td>...</td>\n",
       "      <td>242.632554</td>\n",
       "      <td>800.982766</td>\n",
       "      <td>3</td>\n",
       "      <td>4</td>\n",
       "      <td>3</td>\n",
       "      <td>3</td>\n",
       "      <td>4</td>\n",
       "      <td>3</td>\n",
       "      <td>4</td>\n",
       "      <td>4</td>\n",
       "    </tr>\n",
       "    <tr>\n",
       "      <th>2</th>\n",
       "      <td>3</td>\n",
       "      <td>K191035</td>\n",
       "      <td>344d114c-3736-4be5-98f7-c72c281e2d35</td>\n",
       "      <td>f1784cfa9f6d92ae816197eb175d3c71</td>\n",
       "      <td>Yamhill</td>\n",
       "      <td>OR</td>\n",
       "      <td>Yamhill</td>\n",
       "      <td>97148</td>\n",
       "      <td>45.35589</td>\n",
       "      <td>-123.24657</td>\n",
       "      <td>...</td>\n",
       "      <td>159.947583</td>\n",
       "      <td>2054.706961</td>\n",
       "      <td>4</td>\n",
       "      <td>4</td>\n",
       "      <td>2</td>\n",
       "      <td>4</td>\n",
       "      <td>4</td>\n",
       "      <td>3</td>\n",
       "      <td>3</td>\n",
       "      <td>3</td>\n",
       "    </tr>\n",
       "    <tr>\n",
       "      <th>3</th>\n",
       "      <td>4</td>\n",
       "      <td>D90850</td>\n",
       "      <td>abfa2b40-2d43-4994-b15a-989b8c79e311</td>\n",
       "      <td>dc8a365077241bb5cd5ccd305136b05e</td>\n",
       "      <td>Del Mar</td>\n",
       "      <td>CA</td>\n",
       "      <td>San Diego</td>\n",
       "      <td>92014</td>\n",
       "      <td>32.96687</td>\n",
       "      <td>-117.24798</td>\n",
       "      <td>...</td>\n",
       "      <td>119.956840</td>\n",
       "      <td>2164.579412</td>\n",
       "      <td>4</td>\n",
       "      <td>4</td>\n",
       "      <td>4</td>\n",
       "      <td>2</td>\n",
       "      <td>5</td>\n",
       "      <td>4</td>\n",
       "      <td>3</td>\n",
       "      <td>3</td>\n",
       "    </tr>\n",
       "    <tr>\n",
       "      <th>4</th>\n",
       "      <td>5</td>\n",
       "      <td>K662701</td>\n",
       "      <td>68a861fd-0d20-4e51-a587-8a90407ee574</td>\n",
       "      <td>aabb64a116e83fdc4befc1fbab1663f9</td>\n",
       "      <td>Needville</td>\n",
       "      <td>TX</td>\n",
       "      <td>Fort Bend</td>\n",
       "      <td>77461</td>\n",
       "      <td>29.38012</td>\n",
       "      <td>-95.80673</td>\n",
       "      <td>...</td>\n",
       "      <td>149.948316</td>\n",
       "      <td>271.493436</td>\n",
       "      <td>4</td>\n",
       "      <td>4</td>\n",
       "      <td>4</td>\n",
       "      <td>3</td>\n",
       "      <td>4</td>\n",
       "      <td>4</td>\n",
       "      <td>4</td>\n",
       "      <td>5</td>\n",
       "    </tr>\n",
       "    <tr>\n",
       "      <th>...</th>\n",
       "      <td>...</td>\n",
       "      <td>...</td>\n",
       "      <td>...</td>\n",
       "      <td>...</td>\n",
       "      <td>...</td>\n",
       "      <td>...</td>\n",
       "      <td>...</td>\n",
       "      <td>...</td>\n",
       "      <td>...</td>\n",
       "      <td>...</td>\n",
       "      <td>...</td>\n",
       "      <td>...</td>\n",
       "      <td>...</td>\n",
       "      <td>...</td>\n",
       "      <td>...</td>\n",
       "      <td>...</td>\n",
       "      <td>...</td>\n",
       "      <td>...</td>\n",
       "      <td>...</td>\n",
       "      <td>...</td>\n",
       "      <td>...</td>\n",
       "    </tr>\n",
       "    <tr>\n",
       "      <th>9995</th>\n",
       "      <td>9996</td>\n",
       "      <td>M324793</td>\n",
       "      <td>45deb5a2-ae04-4518-bf0b-c82db8dbe4a4</td>\n",
       "      <td>9499fb4de537af195d16d046b79fd20a</td>\n",
       "      <td>Mount Holly</td>\n",
       "      <td>VT</td>\n",
       "      <td>Rutland</td>\n",
       "      <td>5758</td>\n",
       "      <td>43.43391</td>\n",
       "      <td>-72.78734</td>\n",
       "      <td>...</td>\n",
       "      <td>159.979400</td>\n",
       "      <td>6511.252601</td>\n",
       "      <td>3</td>\n",
       "      <td>2</td>\n",
       "      <td>3</td>\n",
       "      <td>3</td>\n",
       "      <td>4</td>\n",
       "      <td>3</td>\n",
       "      <td>2</td>\n",
       "      <td>3</td>\n",
       "    </tr>\n",
       "    <tr>\n",
       "      <th>9996</th>\n",
       "      <td>9997</td>\n",
       "      <td>D861732</td>\n",
       "      <td>6e96b921-0c09-4993-bbda-a1ac6411061a</td>\n",
       "      <td>c09a841117fa81b5c8e19afec2760104</td>\n",
       "      <td>Clarksville</td>\n",
       "      <td>TN</td>\n",
       "      <td>Montgomery</td>\n",
       "      <td>37042</td>\n",
       "      <td>36.56907</td>\n",
       "      <td>-87.41694</td>\n",
       "      <td>...</td>\n",
       "      <td>207.481100</td>\n",
       "      <td>5695.951810</td>\n",
       "      <td>4</td>\n",
       "      <td>5</td>\n",
       "      <td>5</td>\n",
       "      <td>4</td>\n",
       "      <td>4</td>\n",
       "      <td>5</td>\n",
       "      <td>2</td>\n",
       "      <td>5</td>\n",
       "    </tr>\n",
       "    <tr>\n",
       "      <th>9997</th>\n",
       "      <td>9998</td>\n",
       "      <td>I243405</td>\n",
       "      <td>e8307ddf-9a01-4fff-bc59-4742e03fd24f</td>\n",
       "      <td>9c41f212d1e04dca84445019bbc9b41c</td>\n",
       "      <td>Mobeetie</td>\n",
       "      <td>TX</td>\n",
       "      <td>Wheeler</td>\n",
       "      <td>79061</td>\n",
       "      <td>35.52039</td>\n",
       "      <td>-100.44180</td>\n",
       "      <td>...</td>\n",
       "      <td>169.974100</td>\n",
       "      <td>4159.305799</td>\n",
       "      <td>4</td>\n",
       "      <td>4</td>\n",
       "      <td>4</td>\n",
       "      <td>4</td>\n",
       "      <td>4</td>\n",
       "      <td>4</td>\n",
       "      <td>4</td>\n",
       "      <td>5</td>\n",
       "    </tr>\n",
       "    <tr>\n",
       "      <th>9998</th>\n",
       "      <td>9999</td>\n",
       "      <td>I641617</td>\n",
       "      <td>3775ccfc-0052-4107-81ae-9657f81ecdf3</td>\n",
       "      <td>3e1f269b40c235a1038863ecf6b7a0df</td>\n",
       "      <td>Carrollton</td>\n",
       "      <td>GA</td>\n",
       "      <td>Carroll</td>\n",
       "      <td>30117</td>\n",
       "      <td>33.58016</td>\n",
       "      <td>-85.13241</td>\n",
       "      <td>...</td>\n",
       "      <td>252.624000</td>\n",
       "      <td>6468.456752</td>\n",
       "      <td>4</td>\n",
       "      <td>4</td>\n",
       "      <td>6</td>\n",
       "      <td>4</td>\n",
       "      <td>3</td>\n",
       "      <td>3</td>\n",
       "      <td>5</td>\n",
       "      <td>4</td>\n",
       "    </tr>\n",
       "    <tr>\n",
       "      <th>9999</th>\n",
       "      <td>10000</td>\n",
       "      <td>T38070</td>\n",
       "      <td>9de5fb6e-bd33-4995-aec8-f01d0172a499</td>\n",
       "      <td>0ea683a03a3cd544aefe8388aab16176</td>\n",
       "      <td>Clarkesville</td>\n",
       "      <td>GA</td>\n",
       "      <td>Habersham</td>\n",
       "      <td>30523</td>\n",
       "      <td>34.70783</td>\n",
       "      <td>-83.53648</td>\n",
       "      <td>...</td>\n",
       "      <td>217.484000</td>\n",
       "      <td>5857.586167</td>\n",
       "      <td>2</td>\n",
       "      <td>2</td>\n",
       "      <td>3</td>\n",
       "      <td>3</td>\n",
       "      <td>3</td>\n",
       "      <td>3</td>\n",
       "      <td>4</td>\n",
       "      <td>1</td>\n",
       "    </tr>\n",
       "  </tbody>\n",
       "</table>\n",
       "<p>10000 rows × 50 columns</p>\n",
       "</div>"
      ],
      "text/plain": [
       "      CaseOrder Customer_id                           Interaction  \\\n",
       "0             1     K409198  aa90260b-4141-4a24-8e36-b04ce1f4f77b   \n",
       "1             2     S120509  fb76459f-c047-4a9d-8af9-e0f7d4ac2524   \n",
       "2             3     K191035  344d114c-3736-4be5-98f7-c72c281e2d35   \n",
       "3             4      D90850  abfa2b40-2d43-4994-b15a-989b8c79e311   \n",
       "4             5     K662701  68a861fd-0d20-4e51-a587-8a90407ee574   \n",
       "...         ...         ...                                   ...   \n",
       "9995       9996     M324793  45deb5a2-ae04-4518-bf0b-c82db8dbe4a4   \n",
       "9996       9997     D861732  6e96b921-0c09-4993-bbda-a1ac6411061a   \n",
       "9997       9998     I243405  e8307ddf-9a01-4fff-bc59-4742e03fd24f   \n",
       "9998       9999     I641617  3775ccfc-0052-4107-81ae-9657f81ecdf3   \n",
       "9999      10000      T38070  9de5fb6e-bd33-4995-aec8-f01d0172a499   \n",
       "\n",
       "                                   UID          City State  \\\n",
       "0     e885b299883d4f9fb18e39c75155d990   Point Baker    AK   \n",
       "1     f2de8bef964785f41a2959829830fb8a   West Branch    MI   \n",
       "2     f1784cfa9f6d92ae816197eb175d3c71       Yamhill    OR   \n",
       "3     dc8a365077241bb5cd5ccd305136b05e       Del Mar    CA   \n",
       "4     aabb64a116e83fdc4befc1fbab1663f9     Needville    TX   \n",
       "...                                ...           ...   ...   \n",
       "9995  9499fb4de537af195d16d046b79fd20a   Mount Holly    VT   \n",
       "9996  c09a841117fa81b5c8e19afec2760104   Clarksville    TN   \n",
       "9997  9c41f212d1e04dca84445019bbc9b41c      Mobeetie    TX   \n",
       "9998  3e1f269b40c235a1038863ecf6b7a0df    Carrollton    GA   \n",
       "9999  0ea683a03a3cd544aefe8388aab16176  Clarkesville    GA   \n",
       "\n",
       "                     County    Zip       Lat        Lng  ...  MonthlyCharge  \\\n",
       "0     Prince of Wales-Hyder  99927  56.25100 -133.37571  ...     172.455519   \n",
       "1                    Ogemaw  48661  44.32893  -84.24080  ...     242.632554   \n",
       "2                   Yamhill  97148  45.35589 -123.24657  ...     159.947583   \n",
       "3                 San Diego  92014  32.96687 -117.24798  ...     119.956840   \n",
       "4                 Fort Bend  77461  29.38012  -95.80673  ...     149.948316   \n",
       "...                     ...    ...       ...        ...  ...            ...   \n",
       "9995                Rutland   5758  43.43391  -72.78734  ...     159.979400   \n",
       "9996             Montgomery  37042  36.56907  -87.41694  ...     207.481100   \n",
       "9997                Wheeler  79061  35.52039 -100.44180  ...     169.974100   \n",
       "9998                Carroll  30117  33.58016  -85.13241  ...     252.624000   \n",
       "9999              Habersham  30523  34.70783  -83.53648  ...     217.484000   \n",
       "\n",
       "     Bandwidth_GB_Year TimelyResponse Fixes  Replacements  Reliability  \\\n",
       "0           904.536110              5     5             5            3   \n",
       "1           800.982766              3     4             3            3   \n",
       "2          2054.706961              4     4             2            4   \n",
       "3          2164.579412              4     4             4            2   \n",
       "4           271.493436              4     4             4            3   \n",
       "...                ...            ...   ...           ...          ...   \n",
       "9995       6511.252601              3     2             3            3   \n",
       "9996       5695.951810              4     5             5            4   \n",
       "9997       4159.305799              4     4             4            4   \n",
       "9998       6468.456752              4     4             6            4   \n",
       "9999       5857.586167              2     2             3            3   \n",
       "\n",
       "      Options Respectfulness Courteous Listening  \n",
       "0           4              4         3         4  \n",
       "1           4              3         4         4  \n",
       "2           4              3         3         3  \n",
       "3           5              4         3         3  \n",
       "4           4              4         4         5  \n",
       "...       ...            ...       ...       ...  \n",
       "9995        4              3         2         3  \n",
       "9996        4              5         2         5  \n",
       "9997        4              4         4         5  \n",
       "9998        3              3         5         4  \n",
       "9999        3              3         4         1  \n",
       "\n",
       "[10000 rows x 50 columns]"
      ]
     },
     "execution_count": 3,
     "metadata": {},
     "output_type": "execute_result"
    }
   ],
   "source": [
    "# Display Churn dataframe\n",
    "df_churn"
   ]
  },
  {
   "cell_type": "code",
   "execution_count": 4,
   "id": "4baa3447",
   "metadata": {},
   "outputs": [
    {
     "data": {
      "text/plain": [
       "Index(['CaseOrder', 'Customer_id', 'Interaction', 'UID', 'City', 'State',\n",
       "       'County', 'Zip', 'Lat', 'Lng', 'Population', 'Area', 'TimeZone', 'Job',\n",
       "       'Children', 'Age', 'Income', 'Marital', 'Gender', 'Churn',\n",
       "       'Outage_sec_perweek', 'Email', 'Contacts', 'Yearly_equip_failure',\n",
       "       'Techie', 'Contract', 'Port_modem', 'Tablet', 'InternetService',\n",
       "       'Phone', 'Multiple', 'OnlineSecurity', 'OnlineBackup',\n",
       "       'DeviceProtection', 'TechSupport', 'StreamingTV', 'StreamingMovies',\n",
       "       'PaperlessBilling', 'PaymentMethod', 'Tenure', 'MonthlyCharge',\n",
       "       'Bandwidth_GB_Year', 'TimelyResponse', 'Fixes', 'Replacements',\n",
       "       'Reliability', 'Options', 'Respectfulness', 'Courteous', 'Listening'],\n",
       "      dtype='object')"
      ]
     },
     "execution_count": 4,
     "metadata": {},
     "output_type": "execute_result"
    }
   ],
   "source": [
    "#list column names\n",
    "df_churn.columns"
   ]
  },
  {
   "cell_type": "code",
   "execution_count": 5,
   "id": "48055352",
   "metadata": {},
   "outputs": [
    {
     "name": "stdout",
     "output_type": "stream",
     "text": [
      "<class 'pandas.core.frame.DataFrame'>\n",
      "RangeIndex: 10000 entries, 0 to 9999\n",
      "Data columns (total 50 columns):\n",
      " #   Column                Non-Null Count  Dtype  \n",
      "---  ------                --------------  -----  \n",
      " 0   CaseOrder             10000 non-null  int64  \n",
      " 1   Customer_id           10000 non-null  object \n",
      " 2   Interaction           10000 non-null  object \n",
      " 3   UID                   10000 non-null  object \n",
      " 4   City                  10000 non-null  object \n",
      " 5   State                 10000 non-null  object \n",
      " 6   County                10000 non-null  object \n",
      " 7   Zip                   10000 non-null  int64  \n",
      " 8   Lat                   10000 non-null  float64\n",
      " 9   Lng                   10000 non-null  float64\n",
      " 10  Population            10000 non-null  int64  \n",
      " 11  Area                  10000 non-null  object \n",
      " 12  TimeZone              10000 non-null  object \n",
      " 13  Job                   10000 non-null  object \n",
      " 14  Children              10000 non-null  int64  \n",
      " 15  Age                   10000 non-null  int64  \n",
      " 16  Income                10000 non-null  float64\n",
      " 17  Marital               10000 non-null  object \n",
      " 18  Gender                10000 non-null  object \n",
      " 19  Churn                 10000 non-null  object \n",
      " 20  Outage_sec_perweek    10000 non-null  float64\n",
      " 21  Email                 10000 non-null  int64  \n",
      " 22  Contacts              10000 non-null  int64  \n",
      " 23  Yearly_equip_failure  10000 non-null  int64  \n",
      " 24  Techie                10000 non-null  object \n",
      " 25  Contract              10000 non-null  object \n",
      " 26  Port_modem            10000 non-null  object \n",
      " 27  Tablet                10000 non-null  object \n",
      " 28  InternetService       10000 non-null  object \n",
      " 29  Phone                 10000 non-null  object \n",
      " 30  Multiple              10000 non-null  object \n",
      " 31  OnlineSecurity        10000 non-null  object \n",
      " 32  OnlineBackup          10000 non-null  object \n",
      " 33  DeviceProtection      10000 non-null  object \n",
      " 34  TechSupport           10000 non-null  object \n",
      " 35  StreamingTV           10000 non-null  object \n",
      " 36  StreamingMovies       10000 non-null  object \n",
      " 37  PaperlessBilling      10000 non-null  object \n",
      " 38  PaymentMethod         10000 non-null  object \n",
      " 39  Tenure                10000 non-null  float64\n",
      " 40  MonthlyCharge         10000 non-null  float64\n",
      " 41  Bandwidth_GB_Year     10000 non-null  float64\n",
      " 42  TimelyResponse        10000 non-null  int64  \n",
      " 43  Fixes                 10000 non-null  int64  \n",
      " 44  Replacements          10000 non-null  int64  \n",
      " 45  Reliability           10000 non-null  int64  \n",
      " 46  Options               10000 non-null  int64  \n",
      " 47  Respectfulness        10000 non-null  int64  \n",
      " 48  Courteous             10000 non-null  int64  \n",
      " 49  Listening             10000 non-null  int64  \n",
      "dtypes: float64(7), int64(16), object(27)\n",
      "memory usage: 3.8+ MB\n"
     ]
    }
   ],
   "source": [
    "#Display the summary of the dataframe\n",
    "df_churn.info()"
   ]
  },
  {
   "cell_type": "code",
   "execution_count": 6,
   "id": "aef1ad87",
   "metadata": {},
   "outputs": [
    {
     "data": {
      "text/plain": [
       "(10000, 50)"
      ]
     },
     "execution_count": 6,
     "metadata": {},
     "output_type": "execute_result"
    }
   ],
   "source": [
    "# Display the dimension of dataframe\n",
    "df_churn.shape"
   ]
  },
  {
   "cell_type": "code",
   "execution_count": 7,
   "id": "420b28d9",
   "metadata": {},
   "outputs": [
    {
     "data": {
      "text/html": [
       "<div>\n",
       "<style scoped>\n",
       "    .dataframe tbody tr th:only-of-type {\n",
       "        vertical-align: middle;\n",
       "    }\n",
       "\n",
       "    .dataframe tbody tr th {\n",
       "        vertical-align: top;\n",
       "    }\n",
       "\n",
       "    .dataframe thead th {\n",
       "        text-align: right;\n",
       "    }\n",
       "</style>\n",
       "<table border=\"1\" class=\"dataframe\">\n",
       "  <thead>\n",
       "    <tr style=\"text-align: right;\">\n",
       "      <th></th>\n",
       "      <th>CaseOrder</th>\n",
       "      <th>Zip</th>\n",
       "      <th>Lat</th>\n",
       "      <th>Lng</th>\n",
       "      <th>Population</th>\n",
       "      <th>Children</th>\n",
       "      <th>Age</th>\n",
       "      <th>Income</th>\n",
       "      <th>Outage_sec_perweek</th>\n",
       "      <th>Email</th>\n",
       "      <th>...</th>\n",
       "      <th>MonthlyCharge</th>\n",
       "      <th>Bandwidth_GB_Year</th>\n",
       "      <th>TimelyResponse</th>\n",
       "      <th>Fixes</th>\n",
       "      <th>Replacements</th>\n",
       "      <th>Reliability</th>\n",
       "      <th>Options</th>\n",
       "      <th>Respectfulness</th>\n",
       "      <th>Courteous</th>\n",
       "      <th>Listening</th>\n",
       "    </tr>\n",
       "  </thead>\n",
       "  <tbody>\n",
       "    <tr>\n",
       "      <th>count</th>\n",
       "      <td>10000.00000</td>\n",
       "      <td>10000.000000</td>\n",
       "      <td>10000.000000</td>\n",
       "      <td>10000.000000</td>\n",
       "      <td>10000.000000</td>\n",
       "      <td>10000.0000</td>\n",
       "      <td>10000.000000</td>\n",
       "      <td>10000.000000</td>\n",
       "      <td>10000.000000</td>\n",
       "      <td>10000.000000</td>\n",
       "      <td>...</td>\n",
       "      <td>10000.000000</td>\n",
       "      <td>10000.000000</td>\n",
       "      <td>10000.000000</td>\n",
       "      <td>10000.000000</td>\n",
       "      <td>10000.000000</td>\n",
       "      <td>10000.000000</td>\n",
       "      <td>10000.000000</td>\n",
       "      <td>10000.000000</td>\n",
       "      <td>10000.000000</td>\n",
       "      <td>10000.000000</td>\n",
       "    </tr>\n",
       "    <tr>\n",
       "      <th>mean</th>\n",
       "      <td>5000.50000</td>\n",
       "      <td>49153.319600</td>\n",
       "      <td>38.757567</td>\n",
       "      <td>-90.782536</td>\n",
       "      <td>9756.562400</td>\n",
       "      <td>2.0877</td>\n",
       "      <td>53.078400</td>\n",
       "      <td>39806.926771</td>\n",
       "      <td>10.001848</td>\n",
       "      <td>12.016000</td>\n",
       "      <td>...</td>\n",
       "      <td>172.624816</td>\n",
       "      <td>3392.341550</td>\n",
       "      <td>3.490800</td>\n",
       "      <td>3.505100</td>\n",
       "      <td>3.487000</td>\n",
       "      <td>3.497500</td>\n",
       "      <td>3.492900</td>\n",
       "      <td>3.497300</td>\n",
       "      <td>3.509500</td>\n",
       "      <td>3.495600</td>\n",
       "    </tr>\n",
       "    <tr>\n",
       "      <th>std</th>\n",
       "      <td>2886.89568</td>\n",
       "      <td>27532.196108</td>\n",
       "      <td>5.437389</td>\n",
       "      <td>15.156142</td>\n",
       "      <td>14432.698671</td>\n",
       "      <td>2.1472</td>\n",
       "      <td>20.698882</td>\n",
       "      <td>28199.916702</td>\n",
       "      <td>2.976019</td>\n",
       "      <td>3.025898</td>\n",
       "      <td>...</td>\n",
       "      <td>42.943094</td>\n",
       "      <td>2185.294852</td>\n",
       "      <td>1.037797</td>\n",
       "      <td>1.034641</td>\n",
       "      <td>1.027977</td>\n",
       "      <td>1.025816</td>\n",
       "      <td>1.024819</td>\n",
       "      <td>1.033586</td>\n",
       "      <td>1.028502</td>\n",
       "      <td>1.028633</td>\n",
       "    </tr>\n",
       "    <tr>\n",
       "      <th>min</th>\n",
       "      <td>1.00000</td>\n",
       "      <td>601.000000</td>\n",
       "      <td>17.966120</td>\n",
       "      <td>-171.688150</td>\n",
       "      <td>0.000000</td>\n",
       "      <td>0.0000</td>\n",
       "      <td>18.000000</td>\n",
       "      <td>348.670000</td>\n",
       "      <td>0.099747</td>\n",
       "      <td>1.000000</td>\n",
       "      <td>...</td>\n",
       "      <td>79.978860</td>\n",
       "      <td>155.506715</td>\n",
       "      <td>1.000000</td>\n",
       "      <td>1.000000</td>\n",
       "      <td>1.000000</td>\n",
       "      <td>1.000000</td>\n",
       "      <td>1.000000</td>\n",
       "      <td>1.000000</td>\n",
       "      <td>1.000000</td>\n",
       "      <td>1.000000</td>\n",
       "    </tr>\n",
       "    <tr>\n",
       "      <th>25%</th>\n",
       "      <td>2500.75000</td>\n",
       "      <td>26292.500000</td>\n",
       "      <td>35.341828</td>\n",
       "      <td>-97.082812</td>\n",
       "      <td>738.000000</td>\n",
       "      <td>0.0000</td>\n",
       "      <td>35.000000</td>\n",
       "      <td>19224.717500</td>\n",
       "      <td>8.018214</td>\n",
       "      <td>10.000000</td>\n",
       "      <td>...</td>\n",
       "      <td>139.979239</td>\n",
       "      <td>1236.470827</td>\n",
       "      <td>3.000000</td>\n",
       "      <td>3.000000</td>\n",
       "      <td>3.000000</td>\n",
       "      <td>3.000000</td>\n",
       "      <td>3.000000</td>\n",
       "      <td>3.000000</td>\n",
       "      <td>3.000000</td>\n",
       "      <td>3.000000</td>\n",
       "    </tr>\n",
       "    <tr>\n",
       "      <th>50%</th>\n",
       "      <td>5000.50000</td>\n",
       "      <td>48869.500000</td>\n",
       "      <td>39.395800</td>\n",
       "      <td>-87.918800</td>\n",
       "      <td>2910.500000</td>\n",
       "      <td>1.0000</td>\n",
       "      <td>53.000000</td>\n",
       "      <td>33170.605000</td>\n",
       "      <td>10.018560</td>\n",
       "      <td>12.000000</td>\n",
       "      <td>...</td>\n",
       "      <td>167.484700</td>\n",
       "      <td>3279.536903</td>\n",
       "      <td>3.000000</td>\n",
       "      <td>4.000000</td>\n",
       "      <td>3.000000</td>\n",
       "      <td>3.000000</td>\n",
       "      <td>3.000000</td>\n",
       "      <td>3.000000</td>\n",
       "      <td>4.000000</td>\n",
       "      <td>3.000000</td>\n",
       "    </tr>\n",
       "    <tr>\n",
       "      <th>75%</th>\n",
       "      <td>7500.25000</td>\n",
       "      <td>71866.500000</td>\n",
       "      <td>42.106908</td>\n",
       "      <td>-80.088745</td>\n",
       "      <td>13168.000000</td>\n",
       "      <td>3.0000</td>\n",
       "      <td>71.000000</td>\n",
       "      <td>53246.170000</td>\n",
       "      <td>11.969485</td>\n",
       "      <td>14.000000</td>\n",
       "      <td>...</td>\n",
       "      <td>200.734725</td>\n",
       "      <td>5586.141370</td>\n",
       "      <td>4.000000</td>\n",
       "      <td>4.000000</td>\n",
       "      <td>4.000000</td>\n",
       "      <td>4.000000</td>\n",
       "      <td>4.000000</td>\n",
       "      <td>4.000000</td>\n",
       "      <td>4.000000</td>\n",
       "      <td>4.000000</td>\n",
       "    </tr>\n",
       "    <tr>\n",
       "      <th>max</th>\n",
       "      <td>10000.00000</td>\n",
       "      <td>99929.000000</td>\n",
       "      <td>70.640660</td>\n",
       "      <td>-65.667850</td>\n",
       "      <td>111850.000000</td>\n",
       "      <td>10.0000</td>\n",
       "      <td>89.000000</td>\n",
       "      <td>258900.700000</td>\n",
       "      <td>21.207230</td>\n",
       "      <td>23.000000</td>\n",
       "      <td>...</td>\n",
       "      <td>290.160419</td>\n",
       "      <td>7158.981530</td>\n",
       "      <td>7.000000</td>\n",
       "      <td>7.000000</td>\n",
       "      <td>8.000000</td>\n",
       "      <td>7.000000</td>\n",
       "      <td>7.000000</td>\n",
       "      <td>8.000000</td>\n",
       "      <td>7.000000</td>\n",
       "      <td>8.000000</td>\n",
       "    </tr>\n",
       "  </tbody>\n",
       "</table>\n",
       "<p>8 rows × 23 columns</p>\n",
       "</div>"
      ],
      "text/plain": [
       "         CaseOrder           Zip           Lat           Lng     Population  \\\n",
       "count  10000.00000  10000.000000  10000.000000  10000.000000   10000.000000   \n",
       "mean    5000.50000  49153.319600     38.757567    -90.782536    9756.562400   \n",
       "std     2886.89568  27532.196108      5.437389     15.156142   14432.698671   \n",
       "min        1.00000    601.000000     17.966120   -171.688150       0.000000   \n",
       "25%     2500.75000  26292.500000     35.341828    -97.082812     738.000000   \n",
       "50%     5000.50000  48869.500000     39.395800    -87.918800    2910.500000   \n",
       "75%     7500.25000  71866.500000     42.106908    -80.088745   13168.000000   \n",
       "max    10000.00000  99929.000000     70.640660    -65.667850  111850.000000   \n",
       "\n",
       "         Children           Age         Income  Outage_sec_perweek  \\\n",
       "count  10000.0000  10000.000000   10000.000000        10000.000000   \n",
       "mean       2.0877     53.078400   39806.926771           10.001848   \n",
       "std        2.1472     20.698882   28199.916702            2.976019   \n",
       "min        0.0000     18.000000     348.670000            0.099747   \n",
       "25%        0.0000     35.000000   19224.717500            8.018214   \n",
       "50%        1.0000     53.000000   33170.605000           10.018560   \n",
       "75%        3.0000     71.000000   53246.170000           11.969485   \n",
       "max       10.0000     89.000000  258900.700000           21.207230   \n",
       "\n",
       "              Email  ...  MonthlyCharge  Bandwidth_GB_Year  TimelyResponse  \\\n",
       "count  10000.000000  ...   10000.000000       10000.000000    10000.000000   \n",
       "mean      12.016000  ...     172.624816        3392.341550        3.490800   \n",
       "std        3.025898  ...      42.943094        2185.294852        1.037797   \n",
       "min        1.000000  ...      79.978860         155.506715        1.000000   \n",
       "25%       10.000000  ...     139.979239        1236.470827        3.000000   \n",
       "50%       12.000000  ...     167.484700        3279.536903        3.000000   \n",
       "75%       14.000000  ...     200.734725        5586.141370        4.000000   \n",
       "max       23.000000  ...     290.160419        7158.981530        7.000000   \n",
       "\n",
       "              Fixes  Replacements   Reliability       Options  Respectfulness  \\\n",
       "count  10000.000000  10000.000000  10000.000000  10000.000000    10000.000000   \n",
       "mean       3.505100      3.487000      3.497500      3.492900        3.497300   \n",
       "std        1.034641      1.027977      1.025816      1.024819        1.033586   \n",
       "min        1.000000      1.000000      1.000000      1.000000        1.000000   \n",
       "25%        3.000000      3.000000      3.000000      3.000000        3.000000   \n",
       "50%        4.000000      3.000000      3.000000      3.000000        3.000000   \n",
       "75%        4.000000      4.000000      4.000000      4.000000        4.000000   \n",
       "max        7.000000      8.000000      7.000000      7.000000        8.000000   \n",
       "\n",
       "          Courteous     Listening  \n",
       "count  10000.000000  10000.000000  \n",
       "mean       3.509500      3.495600  \n",
       "std        1.028502      1.028633  \n",
       "min        1.000000      1.000000  \n",
       "25%        3.000000      3.000000  \n",
       "50%        4.000000      3.000000  \n",
       "75%        4.000000      4.000000  \n",
       "max        7.000000      8.000000  \n",
       "\n",
       "[8 rows x 23 columns]"
      ]
     },
     "execution_count": 7,
     "metadata": {},
     "output_type": "execute_result"
    }
   ],
   "source": [
    "#Display descriptive statistics for each column.\n",
    "df_churn.describe() "
   ]
  },
  {
   "cell_type": "code",
   "execution_count": 8,
   "id": "ba8ca860",
   "metadata": {},
   "outputs": [],
   "source": [
    "#Drop the less meaningful column 'Customer_id','Interaction', 'UID','CaseOrder','Zip','Lat', 'Lng', 'City','State','County','Zip','Population','Area', 'TimeZone', 'Job', 'Marital','PaymentMethod'.\n",
    "\n",
    "df_churn = df_churn.drop(columns=['CaseOrder', 'Customer_id', 'Interaction','UID', 'City',\n",
    "                                  'State', 'County', 'Zip', 'Lat', 'Lng','Population','Area', \n",
    "                                  'TimeZone', 'Job', 'Marital','PaymentMethod'])\n"
   ]
  },
  {
   "cell_type": "code",
   "execution_count": 9,
   "id": "567cfb4a",
   "metadata": {},
   "outputs": [
    {
     "data": {
      "text/plain": [
       "(10000, 34)"
      ]
     },
     "execution_count": 9,
     "metadata": {},
     "output_type": "execute_result"
    }
   ],
   "source": [
    "# Display the dimension of dataframe\n",
    "df_churn.shape"
   ]
  },
  {
   "cell_type": "code",
   "execution_count": 10,
   "id": "01d82163",
   "metadata": {},
   "outputs": [
    {
     "data": {
      "text/html": [
       "<div>\n",
       "<style scoped>\n",
       "    .dataframe tbody tr th:only-of-type {\n",
       "        vertical-align: middle;\n",
       "    }\n",
       "\n",
       "    .dataframe tbody tr th {\n",
       "        vertical-align: top;\n",
       "    }\n",
       "\n",
       "    .dataframe thead th {\n",
       "        text-align: right;\n",
       "    }\n",
       "</style>\n",
       "<table border=\"1\" class=\"dataframe\">\n",
       "  <thead>\n",
       "    <tr style=\"text-align: right;\">\n",
       "      <th></th>\n",
       "      <th>Children</th>\n",
       "      <th>Age</th>\n",
       "      <th>Income</th>\n",
       "      <th>Outage_sec_perweek</th>\n",
       "      <th>Email</th>\n",
       "      <th>Contacts</th>\n",
       "      <th>Yearly_equip_failure</th>\n",
       "      <th>Tenure</th>\n",
       "      <th>MonthlyCharge</th>\n",
       "      <th>Bandwidth_GB_Year</th>\n",
       "      <th>TimelyResponse</th>\n",
       "      <th>Fixes</th>\n",
       "      <th>Replacements</th>\n",
       "      <th>Reliability</th>\n",
       "      <th>Options</th>\n",
       "      <th>Respectfulness</th>\n",
       "      <th>Courteous</th>\n",
       "      <th>Listening</th>\n",
       "    </tr>\n",
       "  </thead>\n",
       "  <tbody>\n",
       "    <tr>\n",
       "      <th>count</th>\n",
       "      <td>10000.0000</td>\n",
       "      <td>10000.000000</td>\n",
       "      <td>10000.000000</td>\n",
       "      <td>10000.000000</td>\n",
       "      <td>10000.000000</td>\n",
       "      <td>10000.000000</td>\n",
       "      <td>10000.000000</td>\n",
       "      <td>10000.000000</td>\n",
       "      <td>10000.000000</td>\n",
       "      <td>10000.000000</td>\n",
       "      <td>10000.000000</td>\n",
       "      <td>10000.000000</td>\n",
       "      <td>10000.000000</td>\n",
       "      <td>10000.000000</td>\n",
       "      <td>10000.000000</td>\n",
       "      <td>10000.000000</td>\n",
       "      <td>10000.000000</td>\n",
       "      <td>10000.000000</td>\n",
       "    </tr>\n",
       "    <tr>\n",
       "      <th>mean</th>\n",
       "      <td>2.0877</td>\n",
       "      <td>53.078400</td>\n",
       "      <td>39806.926771</td>\n",
       "      <td>10.001848</td>\n",
       "      <td>12.016000</td>\n",
       "      <td>0.994200</td>\n",
       "      <td>0.398000</td>\n",
       "      <td>34.526188</td>\n",
       "      <td>172.624816</td>\n",
       "      <td>3392.341550</td>\n",
       "      <td>3.490800</td>\n",
       "      <td>3.505100</td>\n",
       "      <td>3.487000</td>\n",
       "      <td>3.497500</td>\n",
       "      <td>3.492900</td>\n",
       "      <td>3.497300</td>\n",
       "      <td>3.509500</td>\n",
       "      <td>3.495600</td>\n",
       "    </tr>\n",
       "    <tr>\n",
       "      <th>std</th>\n",
       "      <td>2.1472</td>\n",
       "      <td>20.698882</td>\n",
       "      <td>28199.916702</td>\n",
       "      <td>2.976019</td>\n",
       "      <td>3.025898</td>\n",
       "      <td>0.988466</td>\n",
       "      <td>0.635953</td>\n",
       "      <td>26.443063</td>\n",
       "      <td>42.943094</td>\n",
       "      <td>2185.294852</td>\n",
       "      <td>1.037797</td>\n",
       "      <td>1.034641</td>\n",
       "      <td>1.027977</td>\n",
       "      <td>1.025816</td>\n",
       "      <td>1.024819</td>\n",
       "      <td>1.033586</td>\n",
       "      <td>1.028502</td>\n",
       "      <td>1.028633</td>\n",
       "    </tr>\n",
       "    <tr>\n",
       "      <th>min</th>\n",
       "      <td>0.0000</td>\n",
       "      <td>18.000000</td>\n",
       "      <td>348.670000</td>\n",
       "      <td>0.099747</td>\n",
       "      <td>1.000000</td>\n",
       "      <td>0.000000</td>\n",
       "      <td>0.000000</td>\n",
       "      <td>1.000259</td>\n",
       "      <td>79.978860</td>\n",
       "      <td>155.506715</td>\n",
       "      <td>1.000000</td>\n",
       "      <td>1.000000</td>\n",
       "      <td>1.000000</td>\n",
       "      <td>1.000000</td>\n",
       "      <td>1.000000</td>\n",
       "      <td>1.000000</td>\n",
       "      <td>1.000000</td>\n",
       "      <td>1.000000</td>\n",
       "    </tr>\n",
       "    <tr>\n",
       "      <th>25%</th>\n",
       "      <td>0.0000</td>\n",
       "      <td>35.000000</td>\n",
       "      <td>19224.717500</td>\n",
       "      <td>8.018214</td>\n",
       "      <td>10.000000</td>\n",
       "      <td>0.000000</td>\n",
       "      <td>0.000000</td>\n",
       "      <td>7.917694</td>\n",
       "      <td>139.979239</td>\n",
       "      <td>1236.470827</td>\n",
       "      <td>3.000000</td>\n",
       "      <td>3.000000</td>\n",
       "      <td>3.000000</td>\n",
       "      <td>3.000000</td>\n",
       "      <td>3.000000</td>\n",
       "      <td>3.000000</td>\n",
       "      <td>3.000000</td>\n",
       "      <td>3.000000</td>\n",
       "    </tr>\n",
       "    <tr>\n",
       "      <th>50%</th>\n",
       "      <td>1.0000</td>\n",
       "      <td>53.000000</td>\n",
       "      <td>33170.605000</td>\n",
       "      <td>10.018560</td>\n",
       "      <td>12.000000</td>\n",
       "      <td>1.000000</td>\n",
       "      <td>0.000000</td>\n",
       "      <td>35.430507</td>\n",
       "      <td>167.484700</td>\n",
       "      <td>3279.536903</td>\n",
       "      <td>3.000000</td>\n",
       "      <td>4.000000</td>\n",
       "      <td>3.000000</td>\n",
       "      <td>3.000000</td>\n",
       "      <td>3.000000</td>\n",
       "      <td>3.000000</td>\n",
       "      <td>4.000000</td>\n",
       "      <td>3.000000</td>\n",
       "    </tr>\n",
       "    <tr>\n",
       "      <th>75%</th>\n",
       "      <td>3.0000</td>\n",
       "      <td>71.000000</td>\n",
       "      <td>53246.170000</td>\n",
       "      <td>11.969485</td>\n",
       "      <td>14.000000</td>\n",
       "      <td>2.000000</td>\n",
       "      <td>1.000000</td>\n",
       "      <td>61.479795</td>\n",
       "      <td>200.734725</td>\n",
       "      <td>5586.141370</td>\n",
       "      <td>4.000000</td>\n",
       "      <td>4.000000</td>\n",
       "      <td>4.000000</td>\n",
       "      <td>4.000000</td>\n",
       "      <td>4.000000</td>\n",
       "      <td>4.000000</td>\n",
       "      <td>4.000000</td>\n",
       "      <td>4.000000</td>\n",
       "    </tr>\n",
       "    <tr>\n",
       "      <th>max</th>\n",
       "      <td>10.0000</td>\n",
       "      <td>89.000000</td>\n",
       "      <td>258900.700000</td>\n",
       "      <td>21.207230</td>\n",
       "      <td>23.000000</td>\n",
       "      <td>7.000000</td>\n",
       "      <td>6.000000</td>\n",
       "      <td>71.999280</td>\n",
       "      <td>290.160419</td>\n",
       "      <td>7158.981530</td>\n",
       "      <td>7.000000</td>\n",
       "      <td>7.000000</td>\n",
       "      <td>8.000000</td>\n",
       "      <td>7.000000</td>\n",
       "      <td>7.000000</td>\n",
       "      <td>8.000000</td>\n",
       "      <td>7.000000</td>\n",
       "      <td>8.000000</td>\n",
       "    </tr>\n",
       "  </tbody>\n",
       "</table>\n",
       "</div>"
      ],
      "text/plain": [
       "         Children           Age         Income  Outage_sec_perweek  \\\n",
       "count  10000.0000  10000.000000   10000.000000        10000.000000   \n",
       "mean       2.0877     53.078400   39806.926771           10.001848   \n",
       "std        2.1472     20.698882   28199.916702            2.976019   \n",
       "min        0.0000     18.000000     348.670000            0.099747   \n",
       "25%        0.0000     35.000000   19224.717500            8.018214   \n",
       "50%        1.0000     53.000000   33170.605000           10.018560   \n",
       "75%        3.0000     71.000000   53246.170000           11.969485   \n",
       "max       10.0000     89.000000  258900.700000           21.207230   \n",
       "\n",
       "              Email      Contacts  Yearly_equip_failure        Tenure  \\\n",
       "count  10000.000000  10000.000000          10000.000000  10000.000000   \n",
       "mean      12.016000      0.994200              0.398000     34.526188   \n",
       "std        3.025898      0.988466              0.635953     26.443063   \n",
       "min        1.000000      0.000000              0.000000      1.000259   \n",
       "25%       10.000000      0.000000              0.000000      7.917694   \n",
       "50%       12.000000      1.000000              0.000000     35.430507   \n",
       "75%       14.000000      2.000000              1.000000     61.479795   \n",
       "max       23.000000      7.000000              6.000000     71.999280   \n",
       "\n",
       "       MonthlyCharge  Bandwidth_GB_Year  TimelyResponse         Fixes  \\\n",
       "count   10000.000000       10000.000000    10000.000000  10000.000000   \n",
       "mean      172.624816        3392.341550        3.490800      3.505100   \n",
       "std        42.943094        2185.294852        1.037797      1.034641   \n",
       "min        79.978860         155.506715        1.000000      1.000000   \n",
       "25%       139.979239        1236.470827        3.000000      3.000000   \n",
       "50%       167.484700        3279.536903        3.000000      4.000000   \n",
       "75%       200.734725        5586.141370        4.000000      4.000000   \n",
       "max       290.160419        7158.981530        7.000000      7.000000   \n",
       "\n",
       "       Replacements   Reliability       Options  Respectfulness     Courteous  \\\n",
       "count  10000.000000  10000.000000  10000.000000    10000.000000  10000.000000   \n",
       "mean       3.487000      3.497500      3.492900        3.497300      3.509500   \n",
       "std        1.027977      1.025816      1.024819        1.033586      1.028502   \n",
       "min        1.000000      1.000000      1.000000        1.000000      1.000000   \n",
       "25%        3.000000      3.000000      3.000000        3.000000      3.000000   \n",
       "50%        3.000000      3.000000      3.000000        3.000000      4.000000   \n",
       "75%        4.000000      4.000000      4.000000        4.000000      4.000000   \n",
       "max        8.000000      7.000000      7.000000        8.000000      7.000000   \n",
       "\n",
       "          Listening  \n",
       "count  10000.000000  \n",
       "mean       3.495600  \n",
       "std        1.028633  \n",
       "min        1.000000  \n",
       "25%        3.000000  \n",
       "50%        3.000000  \n",
       "75%        4.000000  \n",
       "max        8.000000  "
      ]
     },
     "execution_count": 10,
     "metadata": {},
     "output_type": "execute_result"
    }
   ],
   "source": [
    "#Display descriptive statistics for each column.\n",
    "df_churn.describe() "
   ]
  },
  {
   "cell_type": "code",
   "execution_count": 11,
   "id": "aea911a4",
   "metadata": {},
   "outputs": [
    {
     "data": {
      "text/plain": [
       "False    10000\n",
       "dtype: int64"
      ]
     },
     "execution_count": 11,
     "metadata": {},
     "output_type": "execute_result"
    }
   ],
   "source": [
    "# count the duplicate data\n",
    "df_churn.duplicated().value_counts()"
   ]
  },
  {
   "cell_type": "code",
   "execution_count": 12,
   "id": "1d0b9a8d",
   "metadata": {},
   "outputs": [
    {
     "data": {
      "text/plain": [
       "Children                0\n",
       "Age                     0\n",
       "Income                  0\n",
       "Gender                  0\n",
       "Churn                   0\n",
       "Outage_sec_perweek      0\n",
       "Email                   0\n",
       "Contacts                0\n",
       "Yearly_equip_failure    0\n",
       "Techie                  0\n",
       "Contract                0\n",
       "Port_modem              0\n",
       "Tablet                  0\n",
       "InternetService         0\n",
       "Phone                   0\n",
       "Multiple                0\n",
       "OnlineSecurity          0\n",
       "OnlineBackup            0\n",
       "DeviceProtection        0\n",
       "TechSupport             0\n",
       "StreamingTV             0\n",
       "StreamingMovies         0\n",
       "PaperlessBilling        0\n",
       "Tenure                  0\n",
       "MonthlyCharge           0\n",
       "Bandwidth_GB_Year       0\n",
       "TimelyResponse          0\n",
       "Fixes                   0\n",
       "Replacements            0\n",
       "Reliability             0\n",
       "Options                 0\n",
       "Respectfulness          0\n",
       "Courteous               0\n",
       "Listening               0\n",
       "dtype: int64"
      ]
     },
     "execution_count": 12,
     "metadata": {},
     "output_type": "execute_result"
    }
   ],
   "source": [
    "# Display the number of null values\n",
    "df_churn.isnull().sum()"
   ]
  },
  {
   "cell_type": "code",
   "execution_count": 13,
   "id": "f4e254e4",
   "metadata": {},
   "outputs": [],
   "source": [
    "# Create dummy variables in order to encode categorical, yes/no data points into 1/0 numerical values.\n",
    "df_churn['DummyGender'] = [1 if v == 'Male' else 0 for v in df_churn['Gender']]\n",
    "df_churn['DummyChurn'] = [1 if v == 'Yes' else 0 for v in df_churn['Churn']]\n",
    "df_churn['DummyTechie'] = [1 if v == 'Yes' else 0 for v in df_churn['Techie']]\n",
    "df_churn['DummyContract'] = [1 if v == 'Two Year' else 0 for v in df_churn['Contract']]\n",
    "df_churn['DummyPort_modem'] = [1 if v == 'Yes' else 0 for v in df_churn['Port_modem']]\n",
    "df_churn['DummyTablet'] = [1 if v == 'Yes' else 0 for v in df_churn['Tablet']]\n",
    "df_churn['DummyInternetService'] = [1 if v == 'Fiber Optic' else 0 for v in df_churn['InternetService']]\n",
    "df_churn['DummyPhone'] = [1 if v == 'Yes' else 0 for v in df_churn['Phone']]\n",
    "df_churn['DummyMultiple'] = [1 if v == 'Yes' else 0 for v in df_churn['Multiple']]\n",
    "df_churn['DummyOnlineSecurity'] = [1 if v == 'Yes' else 0 for v in df_churn['OnlineSecurity']]\n",
    "df_churn['DummyOnlineBackup'] = [1 if v == 'Yes' else 0 for v in df_churn['OnlineBackup']]\n",
    "df_churn['DummyDeviceProtection'] = [1 if v == 'Yes' else 0 for v in df_churn['DeviceProtection']]\n",
    "df_churn['DummyTechSupport'] = [1 if v == 'Yes' else 0 for v in df_churn['TechSupport']]\n",
    "df_churn['DummyStreamingTV'] = [1 if v == 'Yes' else 0 for v in df_churn['StreamingTV']]\n",
    "df_churn['StreamingMovies'] = [1 if v == 'Yes' else 0 for v in df_churn['StreamingMovies']]\n",
    "df_churn['DummyPaperlessBilling'] = [1 if v == 'Yes' else 0 for v in df_churn['PaperlessBilling']]"
   ]
  },
  {
   "cell_type": "code",
   "execution_count": 14,
   "id": "19a513f4",
   "metadata": {},
   "outputs": [],
   "source": [
    "# Drop original categorical features from dataframe\n",
    "df_churn = df_churn.drop(columns=['Gender', 'Churn', 'Techie', 'Contract','Port_modem', 'Tablet','InternetService', \n",
    "                                'Phone', 'Multiple','OnlineSecurity','OnlineBackup', 'DeviceProtection','TechSupport',\n",
    "                                'StreamingTV', 'StreamingMovies','PaperlessBilling'])"
   ]
  },
  {
   "cell_type": "code",
   "execution_count": 15,
   "id": "3c4ae279",
   "metadata": {},
   "outputs": [
    {
     "data": {
      "text/html": [
       "<div>\n",
       "<style scoped>\n",
       "    .dataframe tbody tr th:only-of-type {\n",
       "        vertical-align: middle;\n",
       "    }\n",
       "\n",
       "    .dataframe tbody tr th {\n",
       "        vertical-align: top;\n",
       "    }\n",
       "\n",
       "    .dataframe thead th {\n",
       "        text-align: right;\n",
       "    }\n",
       "</style>\n",
       "<table border=\"1\" class=\"dataframe\">\n",
       "  <thead>\n",
       "    <tr style=\"text-align: right;\">\n",
       "      <th></th>\n",
       "      <th>Children</th>\n",
       "      <th>Age</th>\n",
       "      <th>Income</th>\n",
       "      <th>Outage_sec_perweek</th>\n",
       "      <th>Email</th>\n",
       "      <th>Contacts</th>\n",
       "      <th>Yearly_equip_failure</th>\n",
       "      <th>Tenure</th>\n",
       "      <th>MonthlyCharge</th>\n",
       "      <th>Bandwidth_GB_Year</th>\n",
       "      <th>...</th>\n",
       "      <th>DummyTablet</th>\n",
       "      <th>DummyInternetService</th>\n",
       "      <th>DummyPhone</th>\n",
       "      <th>DummyMultiple</th>\n",
       "      <th>DummyOnlineSecurity</th>\n",
       "      <th>DummyOnlineBackup</th>\n",
       "      <th>DummyDeviceProtection</th>\n",
       "      <th>DummyTechSupport</th>\n",
       "      <th>DummyStreamingTV</th>\n",
       "      <th>DummyPaperlessBilling</th>\n",
       "    </tr>\n",
       "  </thead>\n",
       "  <tbody>\n",
       "    <tr>\n",
       "      <th>count</th>\n",
       "      <td>10000.0000</td>\n",
       "      <td>10000.000000</td>\n",
       "      <td>10000.000000</td>\n",
       "      <td>10000.000000</td>\n",
       "      <td>10000.000000</td>\n",
       "      <td>10000.000000</td>\n",
       "      <td>10000.000000</td>\n",
       "      <td>10000.000000</td>\n",
       "      <td>10000.000000</td>\n",
       "      <td>10000.000000</td>\n",
       "      <td>...</td>\n",
       "      <td>10000.000000</td>\n",
       "      <td>10000.000000</td>\n",
       "      <td>10000.000000</td>\n",
       "      <td>10000.000000</td>\n",
       "      <td>10000.000000</td>\n",
       "      <td>10000.000000</td>\n",
       "      <td>10000.000000</td>\n",
       "      <td>10000.000000</td>\n",
       "      <td>10000.000000</td>\n",
       "      <td>10000.000000</td>\n",
       "    </tr>\n",
       "    <tr>\n",
       "      <th>mean</th>\n",
       "      <td>2.0877</td>\n",
       "      <td>53.078400</td>\n",
       "      <td>39806.926771</td>\n",
       "      <td>10.001848</td>\n",
       "      <td>12.016000</td>\n",
       "      <td>0.994200</td>\n",
       "      <td>0.398000</td>\n",
       "      <td>34.526188</td>\n",
       "      <td>172.624816</td>\n",
       "      <td>3392.341550</td>\n",
       "      <td>...</td>\n",
       "      <td>0.299100</td>\n",
       "      <td>0.440800</td>\n",
       "      <td>0.906700</td>\n",
       "      <td>0.460800</td>\n",
       "      <td>0.357600</td>\n",
       "      <td>0.450600</td>\n",
       "      <td>0.438600</td>\n",
       "      <td>0.375000</td>\n",
       "      <td>0.492900</td>\n",
       "      <td>0.588200</td>\n",
       "    </tr>\n",
       "    <tr>\n",
       "      <th>std</th>\n",
       "      <td>2.1472</td>\n",
       "      <td>20.698882</td>\n",
       "      <td>28199.916702</td>\n",
       "      <td>2.976019</td>\n",
       "      <td>3.025898</td>\n",
       "      <td>0.988466</td>\n",
       "      <td>0.635953</td>\n",
       "      <td>26.443063</td>\n",
       "      <td>42.943094</td>\n",
       "      <td>2185.294852</td>\n",
       "      <td>...</td>\n",
       "      <td>0.457887</td>\n",
       "      <td>0.496508</td>\n",
       "      <td>0.290867</td>\n",
       "      <td>0.498486</td>\n",
       "      <td>0.479317</td>\n",
       "      <td>0.497579</td>\n",
       "      <td>0.496241</td>\n",
       "      <td>0.484147</td>\n",
       "      <td>0.499975</td>\n",
       "      <td>0.492184</td>\n",
       "    </tr>\n",
       "    <tr>\n",
       "      <th>min</th>\n",
       "      <td>0.0000</td>\n",
       "      <td>18.000000</td>\n",
       "      <td>348.670000</td>\n",
       "      <td>0.099747</td>\n",
       "      <td>1.000000</td>\n",
       "      <td>0.000000</td>\n",
       "      <td>0.000000</td>\n",
       "      <td>1.000259</td>\n",
       "      <td>79.978860</td>\n",
       "      <td>155.506715</td>\n",
       "      <td>...</td>\n",
       "      <td>0.000000</td>\n",
       "      <td>0.000000</td>\n",
       "      <td>0.000000</td>\n",
       "      <td>0.000000</td>\n",
       "      <td>0.000000</td>\n",
       "      <td>0.000000</td>\n",
       "      <td>0.000000</td>\n",
       "      <td>0.000000</td>\n",
       "      <td>0.000000</td>\n",
       "      <td>0.000000</td>\n",
       "    </tr>\n",
       "    <tr>\n",
       "      <th>25%</th>\n",
       "      <td>0.0000</td>\n",
       "      <td>35.000000</td>\n",
       "      <td>19224.717500</td>\n",
       "      <td>8.018214</td>\n",
       "      <td>10.000000</td>\n",
       "      <td>0.000000</td>\n",
       "      <td>0.000000</td>\n",
       "      <td>7.917694</td>\n",
       "      <td>139.979239</td>\n",
       "      <td>1236.470827</td>\n",
       "      <td>...</td>\n",
       "      <td>0.000000</td>\n",
       "      <td>0.000000</td>\n",
       "      <td>1.000000</td>\n",
       "      <td>0.000000</td>\n",
       "      <td>0.000000</td>\n",
       "      <td>0.000000</td>\n",
       "      <td>0.000000</td>\n",
       "      <td>0.000000</td>\n",
       "      <td>0.000000</td>\n",
       "      <td>0.000000</td>\n",
       "    </tr>\n",
       "    <tr>\n",
       "      <th>50%</th>\n",
       "      <td>1.0000</td>\n",
       "      <td>53.000000</td>\n",
       "      <td>33170.605000</td>\n",
       "      <td>10.018560</td>\n",
       "      <td>12.000000</td>\n",
       "      <td>1.000000</td>\n",
       "      <td>0.000000</td>\n",
       "      <td>35.430507</td>\n",
       "      <td>167.484700</td>\n",
       "      <td>3279.536903</td>\n",
       "      <td>...</td>\n",
       "      <td>0.000000</td>\n",
       "      <td>0.000000</td>\n",
       "      <td>1.000000</td>\n",
       "      <td>0.000000</td>\n",
       "      <td>0.000000</td>\n",
       "      <td>0.000000</td>\n",
       "      <td>0.000000</td>\n",
       "      <td>0.000000</td>\n",
       "      <td>0.000000</td>\n",
       "      <td>1.000000</td>\n",
       "    </tr>\n",
       "    <tr>\n",
       "      <th>75%</th>\n",
       "      <td>3.0000</td>\n",
       "      <td>71.000000</td>\n",
       "      <td>53246.170000</td>\n",
       "      <td>11.969485</td>\n",
       "      <td>14.000000</td>\n",
       "      <td>2.000000</td>\n",
       "      <td>1.000000</td>\n",
       "      <td>61.479795</td>\n",
       "      <td>200.734725</td>\n",
       "      <td>5586.141370</td>\n",
       "      <td>...</td>\n",
       "      <td>1.000000</td>\n",
       "      <td>1.000000</td>\n",
       "      <td>1.000000</td>\n",
       "      <td>1.000000</td>\n",
       "      <td>1.000000</td>\n",
       "      <td>1.000000</td>\n",
       "      <td>1.000000</td>\n",
       "      <td>1.000000</td>\n",
       "      <td>1.000000</td>\n",
       "      <td>1.000000</td>\n",
       "    </tr>\n",
       "    <tr>\n",
       "      <th>max</th>\n",
       "      <td>10.0000</td>\n",
       "      <td>89.000000</td>\n",
       "      <td>258900.700000</td>\n",
       "      <td>21.207230</td>\n",
       "      <td>23.000000</td>\n",
       "      <td>7.000000</td>\n",
       "      <td>6.000000</td>\n",
       "      <td>71.999280</td>\n",
       "      <td>290.160419</td>\n",
       "      <td>7158.981530</td>\n",
       "      <td>...</td>\n",
       "      <td>1.000000</td>\n",
       "      <td>1.000000</td>\n",
       "      <td>1.000000</td>\n",
       "      <td>1.000000</td>\n",
       "      <td>1.000000</td>\n",
       "      <td>1.000000</td>\n",
       "      <td>1.000000</td>\n",
       "      <td>1.000000</td>\n",
       "      <td>1.000000</td>\n",
       "      <td>1.000000</td>\n",
       "    </tr>\n",
       "  </tbody>\n",
       "</table>\n",
       "<p>8 rows × 33 columns</p>\n",
       "</div>"
      ],
      "text/plain": [
       "         Children           Age         Income  Outage_sec_perweek  \\\n",
       "count  10000.0000  10000.000000   10000.000000        10000.000000   \n",
       "mean       2.0877     53.078400   39806.926771           10.001848   \n",
       "std        2.1472     20.698882   28199.916702            2.976019   \n",
       "min        0.0000     18.000000     348.670000            0.099747   \n",
       "25%        0.0000     35.000000   19224.717500            8.018214   \n",
       "50%        1.0000     53.000000   33170.605000           10.018560   \n",
       "75%        3.0000     71.000000   53246.170000           11.969485   \n",
       "max       10.0000     89.000000  258900.700000           21.207230   \n",
       "\n",
       "              Email      Contacts  Yearly_equip_failure        Tenure  \\\n",
       "count  10000.000000  10000.000000          10000.000000  10000.000000   \n",
       "mean      12.016000      0.994200              0.398000     34.526188   \n",
       "std        3.025898      0.988466              0.635953     26.443063   \n",
       "min        1.000000      0.000000              0.000000      1.000259   \n",
       "25%       10.000000      0.000000              0.000000      7.917694   \n",
       "50%       12.000000      1.000000              0.000000     35.430507   \n",
       "75%       14.000000      2.000000              1.000000     61.479795   \n",
       "max       23.000000      7.000000              6.000000     71.999280   \n",
       "\n",
       "       MonthlyCharge  Bandwidth_GB_Year  ...   DummyTablet  \\\n",
       "count   10000.000000       10000.000000  ...  10000.000000   \n",
       "mean      172.624816        3392.341550  ...      0.299100   \n",
       "std        42.943094        2185.294852  ...      0.457887   \n",
       "min        79.978860         155.506715  ...      0.000000   \n",
       "25%       139.979239        1236.470827  ...      0.000000   \n",
       "50%       167.484700        3279.536903  ...      0.000000   \n",
       "75%       200.734725        5586.141370  ...      1.000000   \n",
       "max       290.160419        7158.981530  ...      1.000000   \n",
       "\n",
       "       DummyInternetService    DummyPhone  DummyMultiple  DummyOnlineSecurity  \\\n",
       "count          10000.000000  10000.000000   10000.000000         10000.000000   \n",
       "mean               0.440800      0.906700       0.460800             0.357600   \n",
       "std                0.496508      0.290867       0.498486             0.479317   \n",
       "min                0.000000      0.000000       0.000000             0.000000   \n",
       "25%                0.000000      1.000000       0.000000             0.000000   \n",
       "50%                0.000000      1.000000       0.000000             0.000000   \n",
       "75%                1.000000      1.000000       1.000000             1.000000   \n",
       "max                1.000000      1.000000       1.000000             1.000000   \n",
       "\n",
       "       DummyOnlineBackup  DummyDeviceProtection  DummyTechSupport  \\\n",
       "count       10000.000000           10000.000000      10000.000000   \n",
       "mean            0.450600               0.438600          0.375000   \n",
       "std             0.497579               0.496241          0.484147   \n",
       "min             0.000000               0.000000          0.000000   \n",
       "25%             0.000000               0.000000          0.000000   \n",
       "50%             0.000000               0.000000          0.000000   \n",
       "75%             1.000000               1.000000          1.000000   \n",
       "max             1.000000               1.000000          1.000000   \n",
       "\n",
       "       DummyStreamingTV  DummyPaperlessBilling  \n",
       "count      10000.000000           10000.000000  \n",
       "mean           0.492900               0.588200  \n",
       "std            0.499975               0.492184  \n",
       "min            0.000000               0.000000  \n",
       "25%            0.000000               0.000000  \n",
       "50%            0.000000               1.000000  \n",
       "75%            1.000000               1.000000  \n",
       "max            1.000000               1.000000  \n",
       "\n",
       "[8 rows x 33 columns]"
      ]
     },
     "execution_count": 15,
     "metadata": {},
     "output_type": "execute_result"
    }
   ],
   "source": [
    "#Display descriptive statistics for each column.\n",
    "df_churn.describe()"
   ]
  },
  {
   "cell_type": "code",
   "execution_count": 16,
   "id": "4f56c264",
   "metadata": {},
   "outputs": [
    {
     "data": {
      "text/plain": [
       "Index(['Children', 'Age', 'Income', 'Outage_sec_perweek', 'Email', 'Contacts',\n",
       "       'Yearly_equip_failure', 'Tenure', 'MonthlyCharge', 'Bandwidth_GB_Year',\n",
       "       'TimelyResponse', 'Fixes', 'Replacements', 'Reliability', 'Options',\n",
       "       'Respectfulness', 'Courteous', 'Listening', 'DummyGender', 'DummyChurn',\n",
       "       'DummyTechie', 'DummyContract', 'DummyPort_modem', 'DummyTablet',\n",
       "       'DummyInternetService', 'DummyPhone', 'DummyMultiple',\n",
       "       'DummyOnlineSecurity', 'DummyOnlineBackup', 'DummyDeviceProtection',\n",
       "       'DummyTechSupport', 'DummyStreamingTV', 'DummyPaperlessBilling'],\n",
       "      dtype='object')"
      ]
     },
     "execution_count": 16,
     "metadata": {},
     "output_type": "execute_result"
    }
   ],
   "source": [
    "df_churn.columns"
   ]
  },
  {
   "cell_type": "markdown",
   "id": "c6406e6d",
   "metadata": {},
   "source": [
    "###  C4. Visualizations:\n",
    "\n",
    "### Univariate Statistics"
   ]
  },
  {
   "cell_type": "code",
   "execution_count": 17,
   "id": "6a65994b",
   "metadata": {},
   "outputs": [
    {
     "data": {
      "image/png": "[encoded data removed]",
      "text/plain": [
       "<Figure size 640x480 with 12 Axes>"
      ]
     },
     "metadata": {},
     "output_type": "display_data"
    }
   ],
   "source": [
    "# Create histograms of continuous variables\n",
    "df_churn[['Children', 'Age', 'Income', 'Outage_sec_perweek', 'Email','Contacts', 'Yearly_equip_failure', 'Tenure', \n",
    "          'MonthlyCharge','Bandwidth_GB_Year']].hist()\n",
    "plt.tight_layout()"
   ]
  },
  {
   "cell_type": "code",
   "execution_count": 18,
   "id": "c5d9462c",
   "metadata": {},
   "outputs": [
    {
     "data": {
      "image/png": "[encoded data removed]",
      "text/plain": [
       "<Figure size 640x480 with 1 Axes>"
      ]
     },
     "metadata": {},
     "output_type": "display_data"
    }
   ],
   "source": [
    "# Display boxplots for continuous variables MonthlyCharge, Bandwidth_GB_Year and Tenure\n",
    "sns.boxplot('MonthlyCharge', data = df_churn)\n",
    "plt.show()"
   ]
  },
  {
   "cell_type": "code",
   "execution_count": 19,
   "id": "b3788cc4",
   "metadata": {},
   "outputs": [
    {
     "data": {
      "image/png": "[encoded data removed]",
      "text/plain": [
       "<Figure size 640x480 with 1 Axes>"
      ]
     },
     "metadata": {},
     "output_type": "display_data"
    }
   ],
   "source": [
    "sns.boxplot('Bandwidth_GB_Year', data = df_churn)\n",
    "plt.show()"
   ]
  },
  {
   "cell_type": "code",
   "execution_count": 20,
   "id": "c4a1444c",
   "metadata": {},
   "outputs": [
    {
     "data": {
      "image/png": "[encoded data removed]",
      "text/plain": [
       "<Figure size 640x480 with 1 Axes>"
      ]
     },
     "metadata": {},
     "output_type": "display_data"
    }
   ],
   "source": [
    "sns.boxplot('Tenure', data = df_churn)\n",
    "plt.show()"
   ]
  },
  {
   "cell_type": "markdown",
   "id": "86749712",
   "metadata": {},
   "source": [
    "From the above plot it shows that the anomolies has been removed and there is no outliers."
   ]
  },
  {
   "cell_type": "markdown",
   "id": "84aed9c1",
   "metadata": {},
   "source": [
    "###  Bivariate Statistics"
   ]
  },
  {
   "cell_type": "code",
   "execution_count": 21,
   "id": "f55bc85e",
   "metadata": {},
   "outputs": [
    {
     "data": {
      "image/png": "[encoded data removed]",
      "text/plain": [
       "<Figure size 640x480 with 1 Axes>"
      ]
     },
     "metadata": {},
     "output_type": "display_data"
    }
   ],
   "source": [
    "# Display the scatterplot between target & independent variables\n",
    "sns.scatterplot(x=df_churn['Children'], y=df_churn['DummyChurn'], color='red')\n",
    "plt.show();"
   ]
  },
  {
   "cell_type": "code",
   "execution_count": 22,
   "id": "13da7ac0",
   "metadata": {},
   "outputs": [
    {
     "data": {
      "image/png": "[encoded data removed]",
      "text/plain": [
       "<Figure size 640x480 with 1 Axes>"
      ]
     },
     "metadata": {},
     "output_type": "display_data"
    }
   ],
   "source": [
    "sns.scatterplot(x=df_churn['Age'], y=df_churn['DummyChurn'], color='red')\n",
    "plt.show();"
   ]
  },
  {
   "cell_type": "code",
   "execution_count": 23,
   "id": "ee8e50b9",
   "metadata": {},
   "outputs": [
    {
     "data": {
      "image/png": "[encoded data removed]",
      "text/plain": [
       "<Figure size 640x480 with 1 Axes>"
      ]
     },
     "metadata": {},
     "output_type": "display_data"
    }
   ],
   "source": [
    "sns.scatterplot(x=df_churn['Income'], y=df_churn['DummyChurn'], color='red')\n",
    "plt.show();"
   ]
  },
  {
   "cell_type": "code",
   "execution_count": 24,
   "id": "f5aca23c",
   "metadata": {},
   "outputs": [
    {
     "data": {
      "image/png": "[encoded data removed]",
      "text/plain": [
       "<Figure size 640x480 with 1 Axes>"
      ]
     },
     "metadata": {},
     "output_type": "display_data"
    }
   ],
   "source": [
    "sns.scatterplot(x=df_churn['DummyGender'], y=df_churn['DummyChurn'], color='red')\n",
    "plt.show();"
   ]
  },
  {
   "cell_type": "code",
   "execution_count": 25,
   "id": "d37cfcb2",
   "metadata": {},
   "outputs": [
    {
     "data": {
      "image/png": "[encoded data removed]",
      "text/plain": [
       "<Figure size 640x480 with 1 Axes>"
      ]
     },
     "metadata": {},
     "output_type": "display_data"
    }
   ],
   "source": [
    "sns.scatterplot(x=df_churn['Outage_sec_perweek'], y=df_churn['DummyChurn'], color='red')\n",
    "plt.show();"
   ]
  },
  {
   "cell_type": "code",
   "execution_count": 26,
   "id": "b6ff3ee6",
   "metadata": {},
   "outputs": [
    {
     "data": {
      "image/png": "[encoded data removed]",
      "text/plain": [
       "<Figure size 640x480 with 1 Axes>"
      ]
     },
     "metadata": {},
     "output_type": "display_data"
    }
   ],
   "source": [
    "sns.scatterplot(x=df_churn['Email'], y=df_churn['DummyChurn'], color='red')\n",
    "plt.show();"
   ]
  },
  {
   "cell_type": "code",
   "execution_count": 27,
   "id": "93d05e43",
   "metadata": {},
   "outputs": [
    {
     "data": {
      "image/png": "[encoded data removed]",
      "text/plain": [
       "<Figure size 640x480 with 1 Axes>"
      ]
     },
     "metadata": {},
     "output_type": "display_data"
    }
   ],
   "source": [
    "sns.scatterplot(x=df_churn['Contacts'], y=df_churn['DummyChurn'], color='red')\n",
    "plt.show();"
   ]
  },
  {
   "cell_type": "code",
   "execution_count": 28,
   "id": "3248ae4f",
   "metadata": {},
   "outputs": [
    {
     "data": {
      "image/png": "[encoded data removed]",
      "text/plain": [
       "<Figure size 640x480 with 1 Axes>"
      ]
     },
     "metadata": {},
     "output_type": "display_data"
    }
   ],
   "source": [
    "sns.scatterplot(x=df_churn['Yearly_equip_failure'], y=df_churn['DummyChurn'], color='red')\n",
    "plt.show();"
   ]
  },
  {
   "cell_type": "code",
   "execution_count": 29,
   "id": "f067ed17",
   "metadata": {},
   "outputs": [
    {
     "data": {
      "image/png": "[encoded data removed]",
      "text/plain": [
       "<Figure size 640x480 with 1 Axes>"
      ]
     },
     "metadata": {},
     "output_type": "display_data"
    }
   ],
   "source": [
    "sns.scatterplot(x=df_churn['DummyTechie'], y=df_churn['DummyChurn'], color='red')\n",
    "plt.show();"
   ]
  },
  {
   "cell_type": "code",
   "execution_count": 30,
   "id": "82750612",
   "metadata": {},
   "outputs": [
    {
     "data": {
      "image/png": "[encoded data removed]",
      "text/plain": [
       "<Figure size 640x480 with 1 Axes>"
      ]
     },
     "metadata": {},
     "output_type": "display_data"
    }
   ],
   "source": [
    "sns.scatterplot(x=df_churn['Tenure'], y=df_churn['DummyChurn'], color='red')\n",
    "plt.show();"
   ]
  },
  {
   "cell_type": "code",
   "execution_count": 31,
   "id": "a96af1bc",
   "metadata": {},
   "outputs": [
    {
     "data": {
      "image/png": "[encoded data removed]",
      "text/plain": [
       "<Figure size 640x480 with 1 Axes>"
      ]
     },
     "metadata": {},
     "output_type": "display_data"
    }
   ],
   "source": [
    "sns.scatterplot(x=df_churn['MonthlyCharge'], y=df_churn['DummyChurn'], color='red')\n",
    "plt.show();"
   ]
  },
  {
   "cell_type": "code",
   "execution_count": 32,
   "id": "83a5a04a",
   "metadata": {},
   "outputs": [
    {
     "data": {
      "image/png": "[encoded data removed]",
      "text/plain": [
       "<Figure size 640x480 with 1 Axes>"
      ]
     },
     "metadata": {},
     "output_type": "display_data"
    }
   ],
   "source": [
    "sns.scatterplot(x=df_churn['Bandwidth_GB_Year'], y=df_churn['DummyChurn'], color='red')\n",
    "plt.show();"
   ]
  },
  {
   "cell_type": "code",
   "execution_count": 33,
   "id": "0ac0e2d8",
   "metadata": {},
   "outputs": [
    {
     "data": {
      "image/png": "[encoded data removed]",
      "text/plain": [
       "<Figure size 640x480 with 1 Axes>"
      ]
     },
     "metadata": {},
     "output_type": "display_data"
    }
   ],
   "source": [
    "sns.scatterplot(x=df_churn['TimelyResponse'], y=df_churn['DummyChurn'], color='red')\n",
    "plt.show();"
   ]
  },
  {
   "cell_type": "code",
   "execution_count": 34,
   "id": "1dca9931",
   "metadata": {},
   "outputs": [
    {
     "data": {
      "image/png": "[encoded data removed]",
      "text/plain": [
       "<Figure size 640x480 with 1 Axes>"
      ]
     },
     "metadata": {},
     "output_type": "display_data"
    }
   ],
   "source": [
    "sns.scatterplot(x=df_churn['Fixes'], y=df_churn['DummyChurn'], color='red')\n",
    "plt.show();"
   ]
  },
  {
   "cell_type": "code",
   "execution_count": 35,
   "id": "ac5ef66a",
   "metadata": {},
   "outputs": [
    {
     "data": {
      "image/png": "[encoded data removed]",
      "text/plain": [
       "<Figure size 640x480 with 1 Axes>"
      ]
     },
     "metadata": {},
     "output_type": "display_data"
    }
   ],
   "source": [
    "sns.scatterplot(x=df_churn['Replacements'], y=df_churn['DummyChurn'], color='red')\n",
    "plt.show();"
   ]
  },
  {
   "cell_type": "code",
   "execution_count": 36,
   "id": "d7fb3efb",
   "metadata": {},
   "outputs": [
    {
     "data": {
      "image/png": "[encoded data removed]",
      "text/plain": [
       "<Figure size 640x480 with 1 Axes>"
      ]
     },
     "metadata": {},
     "output_type": "display_data"
    }
   ],
   "source": [
    "sns.scatterplot(x=df_churn['Reliability'], y=df_churn['DummyChurn'], color='red')\n",
    "plt.show();"
   ]
  },
  {
   "cell_type": "code",
   "execution_count": 37,
   "id": "ff109e8a",
   "metadata": {},
   "outputs": [
    {
     "data": {
      "image/png": "[encoded data removed]",
      "text/plain": [
       "<Figure size 640x480 with 1 Axes>"
      ]
     },
     "metadata": {},
     "output_type": "display_data"
    }
   ],
   "source": [
    "sns.scatterplot(x=df_churn['Options'], y=df_churn['DummyChurn'], color='red')\n",
    "plt.show();"
   ]
  },
  {
   "cell_type": "code",
   "execution_count": 38,
   "id": "54e2c113",
   "metadata": {},
   "outputs": [
    {
     "data": {
      "image/png": "[encoded data removed]",
      "text/plain": [
       "<Figure size 640x480 with 1 Axes>"
      ]
     },
     "metadata": {},
     "output_type": "display_data"
    }
   ],
   "source": [
    "sns.scatterplot(x=df_churn['Respectfulness'], y=df_churn['DummyChurn'], color='red')\n",
    "plt.show();"
   ]
  },
  {
   "cell_type": "code",
   "execution_count": 39,
   "id": "913e622f",
   "metadata": {},
   "outputs": [
    {
     "data": {
      "image/png": "[encoded data removed]",
      "text/plain": [
       "<Figure size 640x480 with 1 Axes>"
      ]
     },
     "metadata": {},
     "output_type": "display_data"
    }
   ],
   "source": [
    "sns.scatterplot(x=df_churn['Courteous'], y=df_churn['DummyChurn'], color='red')\n",
    "plt.show();"
   ]
  },
  {
   "cell_type": "code",
   "execution_count": 40,
   "id": "ea831468",
   "metadata": {},
   "outputs": [
    {
     "data": {
      "image/png": "[encoded data removed]",
      "text/plain": [
       "<Figure size 640x480 with 1 Axes>"
      ]
     },
     "metadata": {},
     "output_type": "display_data"
    }
   ],
   "source": [
    "sns.scatterplot(x=df_churn['Listening'], y=df_churn['DummyChurn'], color='red')\n",
    "plt.show();"
   ]
  },
  {
   "cell_type": "markdown",
   "id": "c1b77a82",
   "metadata": {},
   "source": [
    "From the above scatterplot, it shows that there is no correlation between the “DummyChurn” and any other continuous variables or categorical variables."
   ]
  },
  {
   "cell_type": "markdown",
   "id": "7aeb7f6d",
   "metadata": {},
   "source": [
    "### C5. Prepared Dataset:"
   ]
  },
  {
   "cell_type": "code",
   "execution_count": 41,
   "id": "fa14f907",
   "metadata": {},
   "outputs": [],
   "source": [
    "#Save prepared dataset as new files.\n",
    "df_churn.to_csv('log_prepared_churn.csv')"
   ]
  },
  {
   "cell_type": "code",
   "execution_count": 42,
   "id": "70abce43",
   "metadata": {},
   "outputs": [],
   "source": [
    "# load the dataset\n",
    "df = pd.read_csv('log_prepared_churn.csv')"
   ]
  },
  {
   "cell_type": "code",
   "execution_count": 43,
   "id": "d620750c",
   "metadata": {},
   "outputs": [
    {
     "data": {
      "text/plain": [
       "(10000, 34)"
      ]
     },
     "execution_count": 43,
     "metadata": {},
     "output_type": "execute_result"
    }
   ],
   "source": [
    "# Display the dimension of dataframe\n",
    "df.shape"
   ]
  },
  {
   "cell_type": "code",
   "execution_count": 44,
   "id": "4ff79c67",
   "metadata": {},
   "outputs": [
    {
     "data": {
      "text/plain": [
       "Index(['Unnamed: 0', 'Children', 'Age', 'Income', 'Outage_sec_perweek',\n",
       "       'Email', 'Contacts', 'Yearly_equip_failure', 'Tenure', 'MonthlyCharge',\n",
       "       'Bandwidth_GB_Year', 'TimelyResponse', 'Fixes', 'Replacements',\n",
       "       'Reliability', 'Options', 'Respectfulness', 'Courteous', 'Listening',\n",
       "       'DummyGender', 'DummyChurn', 'DummyTechie', 'DummyContract',\n",
       "       'DummyPort_modem', 'DummyTablet', 'DummyInternetService', 'DummyPhone',\n",
       "       'DummyMultiple', 'DummyOnlineSecurity', 'DummyOnlineBackup',\n",
       "       'DummyDeviceProtection', 'DummyTechSupport', 'DummyStreamingTV',\n",
       "       'DummyPaperlessBilling'],\n",
       "      dtype='object')"
      ]
     },
     "execution_count": 44,
     "metadata": {},
     "output_type": "execute_result"
    }
   ],
   "source": [
    "#list the columns\n",
    "df.columns"
   ]
  },
  {
   "cell_type": "markdown",
   "id": "7910de12",
   "metadata": {},
   "source": [
    "## Part IV: Model Comparison and Analysis"
   ]
  },
  {
   "cell_type": "markdown",
   "id": "f5e119f2",
   "metadata": {},
   "source": [
    "### D1. Initial Model:"
   ]
  },
  {
   "cell_type": "code",
   "execution_count": 45,
   "id": "09a17e6d",
   "metadata": {},
   "outputs": [
    {
     "name": "stdout",
     "output_type": "stream",
     "text": [
      "Optimization terminated successfully.\n",
      "         Current function value: 0.319573\n",
      "         Iterations 8\n"
     ]
    },
    {
     "data": {
      "text/html": [
       "<table class=\"simpletable\">\n",
       "<caption>Logit Regression Results</caption>\n",
       "<tr>\n",
       "  <th>Dep. Variable:</th>      <td>DummyChurn</td>    <th>  No. Observations:  </th>  <td> 10000</td> \n",
       "</tr>\n",
       "<tr>\n",
       "  <th>Model:</th>                 <td>Logit</td>      <th>  Df Residuals:      </th>  <td>  9981</td> \n",
       "</tr>\n",
       "<tr>\n",
       "  <th>Method:</th>                 <td>MLE</td>       <th>  Df Model:          </th>  <td>    18</td> \n",
       "</tr>\n",
       "<tr>\n",
       "  <th>Date:</th>            <td>Fri, 20 Jan 2023</td> <th>  Pseudo R-squ.:     </th>  <td>0.4473</td> \n",
       "</tr>\n",
       "<tr>\n",
       "  <th>Time:</th>                <td>10:26:29</td>     <th>  Log-Likelihood:    </th> <td> -3195.7</td>\n",
       "</tr>\n",
       "<tr>\n",
       "  <th>converged:</th>             <td>True</td>       <th>  LL-Null:           </th> <td> -5782.2</td>\n",
       "</tr>\n",
       "<tr>\n",
       "  <th>Covariance Type:</th>     <td>nonrobust</td>    <th>  LLR p-value:       </th>  <td> 0.000</td> \n",
       "</tr>\n",
       "</table>\n",
       "<table class=\"simpletable\">\n",
       "<tr>\n",
       "            <td></td>              <th>coef</th>     <th>std err</th>      <th>z</th>      <th>P>|z|</th>  <th>[0.025</th>    <th>0.975]</th>  \n",
       "</tr>\n",
       "<tr>\n",
       "  <th>intercept</th>            <td>   -5.4290</td> <td>    0.369</td> <td>  -14.709</td> <td> 0.000</td> <td>   -6.152</td> <td>   -4.706</td>\n",
       "</tr>\n",
       "<tr>\n",
       "  <th>Children</th>             <td>   -0.0980</td> <td>    0.016</td> <td>   -6.318</td> <td> 0.000</td> <td>   -0.128</td> <td>   -0.068</td>\n",
       "</tr>\n",
       "<tr>\n",
       "  <th>Age</th>                  <td>    0.0114</td> <td>    0.002</td> <td>    7.130</td> <td> 0.000</td> <td>    0.008</td> <td>    0.015</td>\n",
       "</tr>\n",
       "<tr>\n",
       "  <th>Income</th>               <td> 5.015e-07</td> <td> 1.12e-06</td> <td>    0.450</td> <td> 0.653</td> <td>-1.68e-06</td> <td> 2.69e-06</td>\n",
       "</tr>\n",
       "<tr>\n",
       "  <th>Outage_sec_perweek</th>   <td>   -0.0009</td> <td>    0.011</td> <td>   -0.087</td> <td> 0.931</td> <td>   -0.022</td> <td>    0.020</td>\n",
       "</tr>\n",
       "<tr>\n",
       "  <th>Email</th>                <td>    0.0018</td> <td>    0.010</td> <td>    0.169</td> <td> 0.866</td> <td>   -0.019</td> <td>    0.022</td>\n",
       "</tr>\n",
       "<tr>\n",
       "  <th>Contacts</th>             <td>    0.0243</td> <td>    0.032</td> <td>    0.764</td> <td> 0.445</td> <td>   -0.038</td> <td>    0.087</td>\n",
       "</tr>\n",
       "<tr>\n",
       "  <th>Yearly_equip_failure</th> <td>   -0.0267</td> <td>    0.050</td> <td>   -0.539</td> <td> 0.590</td> <td>   -0.124</td> <td>    0.071</td>\n",
       "</tr>\n",
       "<tr>\n",
       "  <th>Tenure</th>               <td>   -0.3156</td> <td>    0.012</td> <td>  -25.482</td> <td> 0.000</td> <td>   -0.340</td> <td>   -0.291</td>\n",
       "</tr>\n",
       "<tr>\n",
       "  <th>MonthlyCharge</th>        <td>    0.0262</td> <td>    0.001</td> <td>   27.344</td> <td> 0.000</td> <td>    0.024</td> <td>    0.028</td>\n",
       "</tr>\n",
       "<tr>\n",
       "  <th>Bandwidth_GB_Year</th>    <td>    0.0029</td> <td>    0.000</td> <td>   20.156</td> <td> 0.000</td> <td>    0.003</td> <td>    0.003</td>\n",
       "</tr>\n",
       "<tr>\n",
       "  <th>TimelyResponse</th>       <td>   -0.0201</td> <td>    0.045</td> <td>   -0.447</td> <td> 0.655</td> <td>   -0.108</td> <td>    0.068</td>\n",
       "</tr>\n",
       "<tr>\n",
       "  <th>Fixes</th>                <td>   -0.0162</td> <td>    0.042</td> <td>   -0.384</td> <td> 0.701</td> <td>   -0.099</td> <td>    0.067</td>\n",
       "</tr>\n",
       "<tr>\n",
       "  <th>Replacements</th>         <td>   -0.0053</td> <td>    0.039</td> <td>   -0.138</td> <td> 0.890</td> <td>   -0.081</td> <td>    0.070</td>\n",
       "</tr>\n",
       "<tr>\n",
       "  <th>Reliability</th>          <td>   -0.0376</td> <td>    0.034</td> <td>   -1.096</td> <td> 0.273</td> <td>   -0.105</td> <td>    0.030</td>\n",
       "</tr>\n",
       "<tr>\n",
       "  <th>Options</th>              <td>   -0.0439</td> <td>    0.036</td> <td>   -1.223</td> <td> 0.221</td> <td>   -0.114</td> <td>    0.026</td>\n",
       "</tr>\n",
       "<tr>\n",
       "  <th>Respectfulness</th>       <td>   -0.0044</td> <td>    0.037</td> <td>   -0.119</td> <td> 0.906</td> <td>   -0.076</td> <td>    0.068</td>\n",
       "</tr>\n",
       "<tr>\n",
       "  <th>Courteous</th>            <td>   -0.0203</td> <td>    0.035</td> <td>   -0.580</td> <td> 0.562</td> <td>   -0.089</td> <td>    0.048</td>\n",
       "</tr>\n",
       "<tr>\n",
       "  <th>Listening</th>            <td>   -0.0024</td> <td>    0.033</td> <td>   -0.071</td> <td> 0.943</td> <td>   -0.067</td> <td>    0.062</td>\n",
       "</tr>\n",
       "</table>"
      ],
      "text/plain": [
       "<class 'statsmodels.iolib.summary.Summary'>\n",
       "\"\"\"\n",
       "                           Logit Regression Results                           \n",
       "==============================================================================\n",
       "Dep. Variable:             DummyChurn   No. Observations:                10000\n",
       "Model:                          Logit   Df Residuals:                     9981\n",
       "Method:                           MLE   Df Model:                           18\n",
       "Date:                Fri, 20 Jan 2023   Pseudo R-squ.:                  0.4473\n",
       "Time:                        10:26:29   Log-Likelihood:                -3195.7\n",
       "converged:                       True   LL-Null:                       -5782.2\n",
       "Covariance Type:            nonrobust   LLR p-value:                     0.000\n",
       "========================================================================================\n",
       "                           coef    std err          z      P>|z|      [0.025      0.975]\n",
       "----------------------------------------------------------------------------------------\n",
       "intercept               -5.4290      0.369    -14.709      0.000      -6.152      -4.706\n",
       "Children                -0.0980      0.016     -6.318      0.000      -0.128      -0.068\n",
       "Age                      0.0114      0.002      7.130      0.000       0.008       0.015\n",
       "Income                5.015e-07   1.12e-06      0.450      0.653   -1.68e-06    2.69e-06\n",
       "Outage_sec_perweek      -0.0009      0.011     -0.087      0.931      -0.022       0.020\n",
       "Email                    0.0018      0.010      0.169      0.866      -0.019       0.022\n",
       "Contacts                 0.0243      0.032      0.764      0.445      -0.038       0.087\n",
       "Yearly_equip_failure    -0.0267      0.050     -0.539      0.590      -0.124       0.071\n",
       "Tenure                  -0.3156      0.012    -25.482      0.000      -0.340      -0.291\n",
       "MonthlyCharge            0.0262      0.001     27.344      0.000       0.024       0.028\n",
       "Bandwidth_GB_Year        0.0029      0.000     20.156      0.000       0.003       0.003\n",
       "TimelyResponse          -0.0201      0.045     -0.447      0.655      -0.108       0.068\n",
       "Fixes                   -0.0162      0.042     -0.384      0.701      -0.099       0.067\n",
       "Replacements            -0.0053      0.039     -0.138      0.890      -0.081       0.070\n",
       "Reliability             -0.0376      0.034     -1.096      0.273      -0.105       0.030\n",
       "Options                 -0.0439      0.036     -1.223      0.221      -0.114       0.026\n",
       "Respectfulness          -0.0044      0.037     -0.119      0.906      -0.076       0.068\n",
       "Courteous               -0.0203      0.035     -0.580      0.562      -0.089       0.048\n",
       "Listening               -0.0024      0.033     -0.071      0.943      -0.067       0.062\n",
       "========================================================================================\n",
       "\"\"\""
      ]
     },
     "execution_count": 45,
     "metadata": {},
     "output_type": "execute_result"
    }
   ],
   "source": [
    "# Construct an logistic regression model from all predictors that were identified in Part C2\n",
    "df['intercept'] = 1\n",
    "churn_logit = sm.Logit(df['DummyChurn'], df[['intercept','Children','Age','Income','Outage_sec_perweek',\n",
    "                                                               'Email','Contacts','Yearly_equip_failure','Tenure',\n",
    "                                                               'MonthlyCharge','Bandwidth_GB_Year','TimelyResponse', 'Fixes',\n",
    "                                                               'Replacements','Reliability','Options','Respectfulness',\n",
    "                                                               'Courteous','Listening']])\n",
    "results = churn_logit.fit()\n",
    "results.summary()"
   ]
  },
  {
   "cell_type": "code",
   "execution_count": 46,
   "id": "3af10e46",
   "metadata": {},
   "outputs": [
    {
     "name": "stdout",
     "output_type": "stream",
     "text": [
      "Optimization terminated successfully.\n",
      "         Current function value: 0.271990\n",
      "         Iterations 8\n"
     ]
    },
    {
     "data": {
      "text/html": [
       "<table class=\"simpletable\">\n",
       "<caption>Logit Regression Results</caption>\n",
       "<tr>\n",
       "  <th>Dep. Variable:</th>      <td>DummyChurn</td>    <th>  No. Observations:  </th>  <td> 10000</td> \n",
       "</tr>\n",
       "<tr>\n",
       "  <th>Model:</th>                 <td>Logit</td>      <th>  Df Residuals:      </th>  <td>  9968</td> \n",
       "</tr>\n",
       "<tr>\n",
       "  <th>Method:</th>                 <td>MLE</td>       <th>  Df Model:          </th>  <td>    31</td> \n",
       "</tr>\n",
       "<tr>\n",
       "  <th>Date:</th>            <td>Fri, 20 Jan 2023</td> <th>  Pseudo R-squ.:     </th>  <td>0.5296</td> \n",
       "</tr>\n",
       "<tr>\n",
       "  <th>Time:</th>                <td>10:26:29</td>     <th>  Log-Likelihood:    </th> <td> -2719.9</td>\n",
       "</tr>\n",
       "<tr>\n",
       "  <th>converged:</th>             <td>True</td>       <th>  LL-Null:           </th> <td> -5782.2</td>\n",
       "</tr>\n",
       "<tr>\n",
       "  <th>Covariance Type:</th>     <td>nonrobust</td>    <th>  LLR p-value:       </th>  <td> 0.000</td> \n",
       "</tr>\n",
       "</table>\n",
       "<table class=\"simpletable\">\n",
       "<tr>\n",
       "            <td></td>               <th>coef</th>     <th>std err</th>      <th>z</th>      <th>P>|z|</th>  <th>[0.025</th>    <th>0.975]</th>  \n",
       "</tr>\n",
       "<tr>\n",
       "  <th>intercept</th>             <td>   -5.8583</td> <td>    0.425</td> <td>  -13.793</td> <td> 0.000</td> <td>   -6.691</td> <td>   -5.026</td>\n",
       "</tr>\n",
       "<tr>\n",
       "  <th>Children</th>              <td>   -0.0395</td> <td>    0.018</td> <td>   -2.232</td> <td> 0.026</td> <td>   -0.074</td> <td>   -0.005</td>\n",
       "</tr>\n",
       "<tr>\n",
       "  <th>Age</th>                   <td>    0.0069</td> <td>    0.002</td> <td>    3.659</td> <td> 0.000</td> <td>    0.003</td> <td>    0.011</td>\n",
       "</tr>\n",
       "<tr>\n",
       "  <th>Income</th>                <td> 1.199e-07</td> <td> 1.22e-06</td> <td>    0.099</td> <td> 0.921</td> <td>-2.26e-06</td> <td>  2.5e-06</td>\n",
       "</tr>\n",
       "<tr>\n",
       "  <th>Outage_sec_perweek</th>    <td>    0.0020</td> <td>    0.011</td> <td>    0.176</td> <td> 0.860</td> <td>   -0.021</td> <td>    0.025</td>\n",
       "</tr>\n",
       "<tr>\n",
       "  <th>Email</th>                 <td>   -0.0015</td> <td>    0.011</td> <td>   -0.133</td> <td> 0.894</td> <td>   -0.024</td> <td>    0.021</td>\n",
       "</tr>\n",
       "<tr>\n",
       "  <th>Contacts</th>              <td>    0.0301</td> <td>    0.035</td> <td>    0.871</td> <td> 0.384</td> <td>   -0.038</td> <td>    0.098</td>\n",
       "</tr>\n",
       "<tr>\n",
       "  <th>Yearly_equip_failure</th>  <td>   -0.0308</td> <td>    0.054</td> <td>   -0.570</td> <td> 0.569</td> <td>   -0.137</td> <td>    0.075</td>\n",
       "</tr>\n",
       "<tr>\n",
       "  <th>DummyTechie</th>           <td>    0.7956</td> <td>    0.089</td> <td>    8.960</td> <td> 0.000</td> <td>    0.622</td> <td>    0.970</td>\n",
       "</tr>\n",
       "<tr>\n",
       "  <th>DummyContract</th>         <td>   -2.2950</td> <td>    0.104</td> <td>  -22.135</td> <td> 0.000</td> <td>   -2.498</td> <td>   -2.092</td>\n",
       "</tr>\n",
       "<tr>\n",
       "  <th>DummyPort_modem</th>       <td>    0.1610</td> <td>    0.068</td> <td>    2.353</td> <td> 0.019</td> <td>    0.027</td> <td>    0.295</td>\n",
       "</tr>\n",
       "<tr>\n",
       "  <th>DummyTablet</th>           <td>   -0.0796</td> <td>    0.074</td> <td>   -1.071</td> <td> 0.284</td> <td>   -0.225</td> <td>    0.066</td>\n",
       "</tr>\n",
       "<tr>\n",
       "  <th>DummyInternetService</th>  <td>   -1.4252</td> <td>    0.126</td> <td>  -11.314</td> <td> 0.000</td> <td>   -1.672</td> <td>   -1.178</td>\n",
       "</tr>\n",
       "<tr>\n",
       "  <th>DummyPhone</th>            <td>   -0.3157</td> <td>    0.117</td> <td>   -2.707</td> <td> 0.007</td> <td>   -0.544</td> <td>   -0.087</td>\n",
       "</tr>\n",
       "<tr>\n",
       "  <th>DummyMultiple</th>         <td>   -0.2908</td> <td>    0.080</td> <td>   -3.646</td> <td> 0.000</td> <td>   -0.447</td> <td>   -0.134</td>\n",
       "</tr>\n",
       "<tr>\n",
       "  <th>DummyOnlineSecurity</th>   <td>   -0.3280</td> <td>    0.074</td> <td>   -4.452</td> <td> 0.000</td> <td>   -0.472</td> <td>   -0.184</td>\n",
       "</tr>\n",
       "<tr>\n",
       "  <th>DummyOnlineBackup</th>     <td>   -0.5125</td> <td>    0.074</td> <td>   -6.931</td> <td> 0.000</td> <td>   -0.657</td> <td>   -0.368</td>\n",
       "</tr>\n",
       "<tr>\n",
       "  <th>DummyDeviceProtection</th> <td>   -0.4100</td> <td>    0.071</td> <td>   -5.764</td> <td> 0.000</td> <td>   -0.549</td> <td>   -0.271</td>\n",
       "</tr>\n",
       "<tr>\n",
       "  <th>DummyTechSupport</th>      <td>   -0.3461</td> <td>    0.073</td> <td>   -4.717</td> <td> 0.000</td> <td>   -0.490</td> <td>   -0.202</td>\n",
       "</tr>\n",
       "<tr>\n",
       "  <th>DummyStreamingTV</th>      <td>    0.0311</td> <td>    0.083</td> <td>    0.374</td> <td> 0.708</td> <td>   -0.132</td> <td>    0.194</td>\n",
       "</tr>\n",
       "<tr>\n",
       "  <th>DummyPaperlessBilling</th> <td>    0.1126</td> <td>    0.070</td> <td>    1.618</td> <td> 0.106</td> <td>   -0.024</td> <td>    0.249</td>\n",
       "</tr>\n",
       "<tr>\n",
       "  <th>Tenure</th>                <td>   -0.2043</td> <td>    0.021</td> <td>   -9.693</td> <td> 0.000</td> <td>   -0.246</td> <td>   -0.163</td>\n",
       "</tr>\n",
       "<tr>\n",
       "  <th>MonthlyCharge</th>         <td>    0.0461</td> <td>    0.002</td> <td>   24.371</td> <td> 0.000</td> <td>    0.042</td> <td>    0.050</td>\n",
       "</tr>\n",
       "<tr>\n",
       "  <th>Bandwidth_GB_Year</th>     <td>    0.0013</td> <td>    0.000</td> <td>    5.215</td> <td> 0.000</td> <td>    0.001</td> <td>    0.002</td>\n",
       "</tr>\n",
       "<tr>\n",
       "  <th>TimelyResponse</th>        <td>   -0.0167</td> <td>    0.049</td> <td>   -0.342</td> <td> 0.732</td> <td>   -0.112</td> <td>    0.079</td>\n",
       "</tr>\n",
       "<tr>\n",
       "  <th>Fixes</th>                 <td>    0.0143</td> <td>    0.046</td> <td>    0.311</td> <td> 0.755</td> <td>   -0.076</td> <td>    0.104</td>\n",
       "</tr>\n",
       "<tr>\n",
       "  <th>Replacements</th>          <td>   -0.0158</td> <td>    0.042</td> <td>   -0.377</td> <td> 0.706</td> <td>   -0.098</td> <td>    0.066</td>\n",
       "</tr>\n",
       "<tr>\n",
       "  <th>Reliability</th>           <td>   -0.0250</td> <td>    0.037</td> <td>   -0.673</td> <td> 0.501</td> <td>   -0.098</td> <td>    0.048</td>\n",
       "</tr>\n",
       "<tr>\n",
       "  <th>Options</th>               <td>   -0.0341</td> <td>    0.039</td> <td>   -0.877</td> <td> 0.380</td> <td>   -0.110</td> <td>    0.042</td>\n",
       "</tr>\n",
       "<tr>\n",
       "  <th>Respectfulness</th>        <td>   -0.0309</td> <td>    0.040</td> <td>   -0.776</td> <td> 0.438</td> <td>   -0.109</td> <td>    0.047</td>\n",
       "</tr>\n",
       "<tr>\n",
       "  <th>Courteous</th>             <td>    0.0047</td> <td>    0.038</td> <td>    0.124</td> <td> 0.901</td> <td>   -0.070</td> <td>    0.079</td>\n",
       "</tr>\n",
       "<tr>\n",
       "  <th>Listening</th>             <td>   -0.0090</td> <td>    0.036</td> <td>   -0.251</td> <td> 0.802</td> <td>   -0.079</td> <td>    0.061</td>\n",
       "</tr>\n",
       "</table>"
      ],
      "text/plain": [
       "<class 'statsmodels.iolib.summary.Summary'>\n",
       "\"\"\"\n",
       "                           Logit Regression Results                           \n",
       "==============================================================================\n",
       "Dep. Variable:             DummyChurn   No. Observations:                10000\n",
       "Model:                          Logit   Df Residuals:                     9968\n",
       "Method:                           MLE   Df Model:                           31\n",
       "Date:                Fri, 20 Jan 2023   Pseudo R-squ.:                  0.5296\n",
       "Time:                        10:26:29   Log-Likelihood:                -2719.9\n",
       "converged:                       True   LL-Null:                       -5782.2\n",
       "Covariance Type:            nonrobust   LLR p-value:                     0.000\n",
       "=========================================================================================\n",
       "                            coef    std err          z      P>|z|      [0.025      0.975]\n",
       "-----------------------------------------------------------------------------------------\n",
       "intercept                -5.8583      0.425    -13.793      0.000      -6.691      -5.026\n",
       "Children                 -0.0395      0.018     -2.232      0.026      -0.074      -0.005\n",
       "Age                       0.0069      0.002      3.659      0.000       0.003       0.011\n",
       "Income                 1.199e-07   1.22e-06      0.099      0.921   -2.26e-06     2.5e-06\n",
       "Outage_sec_perweek        0.0020      0.011      0.176      0.860      -0.021       0.025\n",
       "Email                    -0.0015      0.011     -0.133      0.894      -0.024       0.021\n",
       "Contacts                  0.0301      0.035      0.871      0.384      -0.038       0.098\n",
       "Yearly_equip_failure     -0.0308      0.054     -0.570      0.569      -0.137       0.075\n",
       "DummyTechie               0.7956      0.089      8.960      0.000       0.622       0.970\n",
       "DummyContract            -2.2950      0.104    -22.135      0.000      -2.498      -2.092\n",
       "DummyPort_modem           0.1610      0.068      2.353      0.019       0.027       0.295\n",
       "DummyTablet              -0.0796      0.074     -1.071      0.284      -0.225       0.066\n",
       "DummyInternetService     -1.4252      0.126    -11.314      0.000      -1.672      -1.178\n",
       "DummyPhone               -0.3157      0.117     -2.707      0.007      -0.544      -0.087\n",
       "DummyMultiple            -0.2908      0.080     -3.646      0.000      -0.447      -0.134\n",
       "DummyOnlineSecurity      -0.3280      0.074     -4.452      0.000      -0.472      -0.184\n",
       "DummyOnlineBackup        -0.5125      0.074     -6.931      0.000      -0.657      -0.368\n",
       "DummyDeviceProtection    -0.4100      0.071     -5.764      0.000      -0.549      -0.271\n",
       "DummyTechSupport         -0.3461      0.073     -4.717      0.000      -0.490      -0.202\n",
       "DummyStreamingTV          0.0311      0.083      0.374      0.708      -0.132       0.194\n",
       "DummyPaperlessBilling     0.1126      0.070      1.618      0.106      -0.024       0.249\n",
       "Tenure                   -0.2043      0.021     -9.693      0.000      -0.246      -0.163\n",
       "MonthlyCharge             0.0461      0.002     24.371      0.000       0.042       0.050\n",
       "Bandwidth_GB_Year         0.0013      0.000      5.215      0.000       0.001       0.002\n",
       "TimelyResponse           -0.0167      0.049     -0.342      0.732      -0.112       0.079\n",
       "Fixes                     0.0143      0.046      0.311      0.755      -0.076       0.104\n",
       "Replacements             -0.0158      0.042     -0.377      0.706      -0.098       0.066\n",
       "Reliability              -0.0250      0.037     -0.673      0.501      -0.098       0.048\n",
       "Options                  -0.0341      0.039     -0.877      0.380      -0.110       0.042\n",
       "Respectfulness           -0.0309      0.040     -0.776      0.438      -0.109       0.047\n",
       "Courteous                 0.0047      0.038      0.124      0.901      -0.070       0.079\n",
       "Listening                -0.0090      0.036     -0.251      0.802      -0.079       0.061\n",
       "=========================================================================================\n",
       "\"\"\""
      ]
     },
     "execution_count": 46,
     "metadata": {},
     "output_type": "execute_result"
    }
   ],
   "source": [
    "#Model including all dummy variables\n",
    "df['intercept'] = 1\n",
    "dummy_logit = sm.Logit(df['DummyChurn'], df[['intercept','Children','Age','Income','Outage_sec_perweek','Email','Contacts',\n",
    "                                             'Yearly_equip_failure','DummyTechie','DummyContract','DummyPort_modem',\n",
    "                                             'DummyTablet','DummyInternetService', 'DummyPhone','DummyMultiple',\n",
    "                                             'DummyOnlineSecurity','DummyOnlineBackup', 'DummyDeviceProtection',\n",
    "                                             'DummyTechSupport', 'DummyStreamingTV','DummyPaperlessBilling','Tenure',\n",
    "                                             'MonthlyCharge', 'Bandwidth_GB_Year','TimelyResponse', 'Fixes','Replacements',\n",
    "                                             'Reliability','Options','Respectfulness','Courteous','Listening']])\n",
    "results1 = dummy_logit.fit()\n",
    "results1.summary()"
   ]
  },
  {
   "cell_type": "markdown",
   "id": "fabc22fb",
   "metadata": {},
   "source": [
    "#### Initial Multiple Linear Regression Model \n",
    "\n",
    "With 31 independent variables (18 continuous & 13 categorical): y = -5.8583 - 0.0395 * Children + 0.0069 * Age + 1.199e-07 * Income - 0.0020 * Outage_sec_perweek - 0.0015 * Email + 0.0301 * Contacts - 0.0308 * Yearly_equip_failure + 0.7956 * DummyTechie - 2.295 * DummyContract + 0.161 * DummyPort_modem - 0.0796 * DummyTablet - 1.4252 * DummyInternetService - 0.3157 *\n",
    "DummyPhone - 0.2908 * DummyMultiple - 0.3280 * DummyOnlineSecurity - 0.5125* DummyOnlineBackup - 0.41 * DummyDeviceProtection - 0.3461 * DummyTechSupport + 0.0311 * DummyStreamingTV + 0.1126 * DummyPaperlessBilling - 0.2043 * Tenure + 0.0461 * MonthlyCharge + 0.0013 * Bandwidth_GB_Year - 0.0167 * TimelyResponse + 0.0143 * Fixes - 0.0158 * Replacements - 0.025 * Reliability - 0.0341 * Options - 0.0309 * Respectfulness + 0.0047 * Courteous - 0.009 * Listening"
   ]
  },
  {
   "cell_type": "markdown",
   "id": "5c239120",
   "metadata": {},
   "source": [
    "### D2. Justification of Model Reduction:"
   ]
  },
  {
   "cell_type": "markdown",
   "id": "ac3faf9c",
   "metadata": {},
   "source": [
    "After running logistics regression model including all the dummy variables, it shows that the R value = 0.5296 which is not good for the variance of the model. Now i will run the logistic regression model with the p-value 0.05 or less as it is statistically significant. \n",
    "\n",
    "So the reduced model includes independent continuous variables:\n",
    "\n",
    "• Children, Age, Tenure, MonthlyCharge, Bandwidth_GB_Year\n",
    "\n",
    "Independent categorical variables:\n",
    "\n",
    "• DummyTechie, DummyContract, DummyPort_modem, DummyInternetService, DummyPhone, DummyMultiple, DummyOnlineSecurity, DummyOnlineBackup, DummyDeviceProtection, DummyTechSupport\n",
    "\n",
    "And dependent variable: DummyChurn"
   ]
  },
  {
   "cell_type": "markdown",
   "id": "14c4c3ab",
   "metadata": {},
   "source": [
    "### D3. Reduced Logistic Regression Model:"
   ]
  },
  {
   "cell_type": "code",
   "execution_count": 47,
   "id": "345951b3",
   "metadata": {},
   "outputs": [
    {
     "name": "stdout",
     "output_type": "stream",
     "text": [
      "Optimization terminated successfully.\n",
      "         Current function value: 0.272362\n",
      "         Iterations 8\n"
     ]
    },
    {
     "data": {
      "text/html": [
       "<table class=\"simpletable\">\n",
       "<caption>Logit Regression Results</caption>\n",
       "<tr>\n",
       "  <th>Dep. Variable:</th>      <td>DummyChurn</td>    <th>  No. Observations:  </th>  <td> 10000</td> \n",
       "</tr>\n",
       "<tr>\n",
       "  <th>Model:</th>                 <td>Logit</td>      <th>  Df Residuals:      </th>  <td>  9984</td> \n",
       "</tr>\n",
       "<tr>\n",
       "  <th>Method:</th>                 <td>MLE</td>       <th>  Df Model:          </th>  <td>    15</td> \n",
       "</tr>\n",
       "<tr>\n",
       "  <th>Date:</th>            <td>Fri, 20 Jan 2023</td> <th>  Pseudo R-squ.:     </th>  <td>0.5290</td> \n",
       "</tr>\n",
       "<tr>\n",
       "  <th>Time:</th>                <td>10:26:29</td>     <th>  Log-Likelihood:    </th> <td> -2723.6</td>\n",
       "</tr>\n",
       "<tr>\n",
       "  <th>converged:</th>             <td>True</td>       <th>  LL-Null:           </th> <td> -5782.2</td>\n",
       "</tr>\n",
       "<tr>\n",
       "  <th>Covariance Type:</th>     <td>nonrobust</td>    <th>  LLR p-value:       </th>  <td> 0.000</td> \n",
       "</tr>\n",
       "</table>\n",
       "<table class=\"simpletable\">\n",
       "<tr>\n",
       "            <td></td>               <th>coef</th>     <th>std err</th>      <th>z</th>      <th>P>|z|</th>  <th>[0.025</th>    <th>0.975]</th>  \n",
       "</tr>\n",
       "<tr>\n",
       "  <th>intercept</th>             <td>   -6.1973</td> <td>    0.236</td> <td>  -26.280</td> <td> 0.000</td> <td>   -6.659</td> <td>   -5.735</td>\n",
       "</tr>\n",
       "<tr>\n",
       "  <th>Children</th>              <td>   -0.0391</td> <td>    0.018</td> <td>   -2.221</td> <td> 0.026</td> <td>   -0.074</td> <td>   -0.005</td>\n",
       "</tr>\n",
       "<tr>\n",
       "  <th>Age</th>                   <td>    0.0070</td> <td>    0.002</td> <td>    3.735</td> <td> 0.000</td> <td>    0.003</td> <td>    0.011</td>\n",
       "</tr>\n",
       "<tr>\n",
       "  <th>DummyTechie</th>           <td>    0.7970</td> <td>    0.089</td> <td>    8.996</td> <td> 0.000</td> <td>    0.623</td> <td>    0.971</td>\n",
       "</tr>\n",
       "<tr>\n",
       "  <th>DummyContract</th>         <td>   -2.2895</td> <td>    0.103</td> <td>  -22.136</td> <td> 0.000</td> <td>   -2.492</td> <td>   -2.087</td>\n",
       "</tr>\n",
       "<tr>\n",
       "  <th>DummyPort_modem</th>       <td>    0.1598</td> <td>    0.068</td> <td>    2.339</td> <td> 0.019</td> <td>    0.026</td> <td>    0.294</td>\n",
       "</tr>\n",
       "<tr>\n",
       "  <th>DummyInternetService</th>  <td>   -1.4240</td> <td>    0.125</td> <td>  -11.359</td> <td> 0.000</td> <td>   -1.670</td> <td>   -1.178</td>\n",
       "</tr>\n",
       "<tr>\n",
       "  <th>DummyPhone</th>            <td>   -0.3193</td> <td>    0.116</td> <td>   -2.749</td> <td> 0.006</td> <td>   -0.547</td> <td>   -0.092</td>\n",
       "</tr>\n",
       "<tr>\n",
       "  <th>DummyMultiple</th>         <td>   -0.2964</td> <td>    0.077</td> <td>   -3.857</td> <td> 0.000</td> <td>   -0.447</td> <td>   -0.146</td>\n",
       "</tr>\n",
       "<tr>\n",
       "  <th>DummyOnlineSecurity</th>   <td>   -0.3303</td> <td>    0.073</td> <td>   -4.497</td> <td> 0.000</td> <td>   -0.474</td> <td>   -0.186</td>\n",
       "</tr>\n",
       "<tr>\n",
       "  <th>DummyOnlineBackup</th>     <td>   -0.5146</td> <td>    0.072</td> <td>   -7.125</td> <td> 0.000</td> <td>   -0.656</td> <td>   -0.373</td>\n",
       "</tr>\n",
       "<tr>\n",
       "  <th>DummyDeviceProtection</th> <td>   -0.4075</td> <td>    0.070</td> <td>   -5.790</td> <td> 0.000</td> <td>   -0.545</td> <td>   -0.270</td>\n",
       "</tr>\n",
       "<tr>\n",
       "  <th>DummyTechSupport</th>      <td>   -0.3555</td> <td>    0.073</td> <td>   -4.892</td> <td> 0.000</td> <td>   -0.498</td> <td>   -0.213</td>\n",
       "</tr>\n",
       "<tr>\n",
       "  <th>Tenure</th>                <td>   -0.2049</td> <td>    0.021</td> <td>   -9.770</td> <td> 0.000</td> <td>   -0.246</td> <td>   -0.164</td>\n",
       "</tr>\n",
       "<tr>\n",
       "  <th>MonthlyCharge</th>         <td>    0.0463</td> <td>    0.002</td> <td>   25.620</td> <td> 0.000</td> <td>    0.043</td> <td>    0.050</td>\n",
       "</tr>\n",
       "<tr>\n",
       "  <th>Bandwidth_GB_Year</th>     <td>    0.0013</td> <td>    0.000</td> <td>    5.279</td> <td> 0.000</td> <td>    0.001</td> <td>    0.002</td>\n",
       "</tr>\n",
       "</table>"
      ],
      "text/plain": [
       "<class 'statsmodels.iolib.summary.Summary'>\n",
       "\"\"\"\n",
       "                           Logit Regression Results                           \n",
       "==============================================================================\n",
       "Dep. Variable:             DummyChurn   No. Observations:                10000\n",
       "Model:                          Logit   Df Residuals:                     9984\n",
       "Method:                           MLE   Df Model:                           15\n",
       "Date:                Fri, 20 Jan 2023   Pseudo R-squ.:                  0.5290\n",
       "Time:                        10:26:29   Log-Likelihood:                -2723.6\n",
       "converged:                       True   LL-Null:                       -5782.2\n",
       "Covariance Type:            nonrobust   LLR p-value:                     0.000\n",
       "=========================================================================================\n",
       "                            coef    std err          z      P>|z|      [0.025      0.975]\n",
       "-----------------------------------------------------------------------------------------\n",
       "intercept                -6.1973      0.236    -26.280      0.000      -6.659      -5.735\n",
       "Children                 -0.0391      0.018     -2.221      0.026      -0.074      -0.005\n",
       "Age                       0.0070      0.002      3.735      0.000       0.003       0.011\n",
       "DummyTechie               0.7970      0.089      8.996      0.000       0.623       0.971\n",
       "DummyContract            -2.2895      0.103    -22.136      0.000      -2.492      -2.087\n",
       "DummyPort_modem           0.1598      0.068      2.339      0.019       0.026       0.294\n",
       "DummyInternetService     -1.4240      0.125    -11.359      0.000      -1.670      -1.178\n",
       "DummyPhone               -0.3193      0.116     -2.749      0.006      -0.547      -0.092\n",
       "DummyMultiple            -0.2964      0.077     -3.857      0.000      -0.447      -0.146\n",
       "DummyOnlineSecurity      -0.3303      0.073     -4.497      0.000      -0.474      -0.186\n",
       "DummyOnlineBackup        -0.5146      0.072     -7.125      0.000      -0.656      -0.373\n",
       "DummyDeviceProtection    -0.4075      0.070     -5.790      0.000      -0.545      -0.270\n",
       "DummyTechSupport         -0.3555      0.073     -4.892      0.000      -0.498      -0.213\n",
       "Tenure                   -0.2049      0.021     -9.770      0.000      -0.246      -0.164\n",
       "MonthlyCharge             0.0463      0.002     25.620      0.000       0.043       0.050\n",
       "Bandwidth_GB_Year         0.0013      0.000      5.279      0.000       0.001       0.002\n",
       "=========================================================================================\n",
       "\"\"\""
      ]
     },
     "execution_count": 47,
     "metadata": {},
     "output_type": "execute_result"
    }
   ],
   "source": [
    "# Create reduced logistic regression model\n",
    "df['intercept'] = 1\n",
    "churn_logit_reduced = sm.Logit(df['DummyChurn'], df[['intercept','Children', 'Age','DummyTechie', 'DummyContract', 'DummyPort_modem',\n",
    "                                                     'DummyInternetService','DummyPhone','DummyMultiple','DummyOnlineSecurity',\n",
    "                                                     'DummyOnlineBackup', 'DummyDeviceProtection','DummyTechSupport', 'Tenure',\n",
    "                                                     'MonthlyCharge', 'Bandwidth_GB_Year']])\n",
    "results_reduced = churn_logit_reduced.fit()\n",
    "results_reduced.summary()"
   ]
  },
  {
   "cell_type": "markdown",
   "id": "44e2c986",
   "metadata": {},
   "source": [
    "#### Reduced Logistic Regression Model:\n",
    "\n",
    "With 15 independent variables (5 continuous & 10 categorical):\n",
    "\n",
    "y = -6.1973 - 0.0391 * Children + 0.0070 * Age + 0.7970 * DummyTechie - 2.2895 * DummyContract + 0.1598 * DummyPort_modem - 1.4240 * DummyInternetService - 0.3193 * DummyPhone - 0.2964 * DummyMultiple - 0.3303 * DummyOnlineSecurity - 0.5146 * DummyOnlineBackup - 0.4075 * DummyDeviceProtection - 0.3555 * DummyTechSupport - 0.2049 * Tenure + 0.0463 * MonthlyCharge + 0.0013 * Bandwidth_GB_Year"
   ]
  },
  {
   "cell_type": "markdown",
   "id": "0675eb27",
   "metadata": {},
   "source": [
    "### E1. Model Comparison:"
   ]
  },
  {
   "cell_type": "markdown",
   "id": "9b9bf290",
   "metadata": {},
   "source": [
    "- The logic of the variable selection technique\n",
    "\n",
    "After running logistics regression model including all the dummy variables, it shows that the R value = 0.5296 which is not good for the variance of the model. So I took the variables with the p-value 0.05 or less as it is statistically significant to run the losgistic regression model. \n",
    " \n",
    "- Evaluation Metrics:\n",
    "\n",
    "After removing the variables with p-value greater than 0.05, the pseudo R value is still 0.5290 which is basically same between the two models. So our reduced model based on p-values did not increase our R-squared so therefore the goodness of fit is same between the two models.\n",
    "\n",
    "\n",
    "### Confusion Matrix"
   ]
  },
  {
   "cell_type": "code",
   "execution_count": 48,
   "id": "6f6fb7cd",
   "metadata": {},
   "outputs": [],
   "source": [
    "# Import the prepared dataset\n",
    "matrix_df = pd.read_csv('log_prepared_churn.csv')\n",
    "X = matrix_df.iloc[:, 1:-1].values\n",
    "y = matrix_df.iloc[:, -1].values"
   ]
  },
  {
   "cell_type": "code",
   "execution_count": 49,
   "id": "26e6eed3",
   "metadata": {},
   "outputs": [],
   "source": [
    "# Split the dataset into the Training set and Test set\n",
    "from sklearn.model_selection import train_test_split\n",
    "X_train, X_test, y_train, y_test = train_test_split(X, y, test_size = 0.2, random_state = 0)"
   ]
  },
  {
   "cell_type": "code",
   "execution_count": 50,
   "id": "81654b66",
   "metadata": {},
   "outputs": [
    {
     "data": {
      "text/plain": [
       "LogisticRegression(random_state=0)"
      ]
     },
     "execution_count": 50,
     "metadata": {},
     "output_type": "execute_result"
    }
   ],
   "source": [
    "# Training the Logistic Regression model on the Training set\n",
    "from sklearn.linear_model import LogisticRegression\n",
    "classifier = LogisticRegression(random_state = 0)\n",
    "classifier.fit(X_train, y_train)"
   ]
  },
  {
   "cell_type": "code",
   "execution_count": 51,
   "id": "60702881",
   "metadata": {},
   "outputs": [],
   "source": [
    "# Predict the Test set results\n",
    "y_pred = classifier.predict(X_test)"
   ]
  },
  {
   "cell_type": "code",
   "execution_count": 52,
   "id": "6b127453",
   "metadata": {},
   "outputs": [
    {
     "name": "stdout",
     "output_type": "stream",
     "text": [
      "[[   0  831]\n",
      " [   0 1169]]\n"
     ]
    }
   ],
   "source": [
    "# Display the Confusion Matrix\n",
    "from sklearn.metrics import confusion_matrix\n",
    "matrix = confusion_matrix(y_test, y_pred)\n",
    "print(matrix)"
   ]
  },
  {
   "cell_type": "code",
   "execution_count": 53,
   "id": "9b43b3f5",
   "metadata": {},
   "outputs": [
    {
     "data": {
      "text/plain": [
       "<AxesSubplot:>"
      ]
     },
     "execution_count": 53,
     "metadata": {},
     "output_type": "execute_result"
    },
    {
     "data": {
      "image/png": "[encoded data removed]",
      "text/plain": [
       "<Figure size 640x480 with 2 Axes>"
      ]
     },
     "metadata": {},
     "output_type": "display_data"
    }
   ],
   "source": [
    "y_predict_test = classifier.predict(X_test)\n",
    "matrix_new = confusion_matrix(y_test, y_predict_test)\n",
    "sns.heatmap(matrix_new, annot=True)"
   ]
  },
  {
   "cell_type": "markdown",
   "id": "90d8ea05",
   "metadata": {},
   "source": [
    "### Classification Report"
   ]
  },
  {
   "cell_type": "code",
   "execution_count": 54,
   "id": "b414a175",
   "metadata": {},
   "outputs": [
    {
     "name": "stdout",
     "output_type": "stream",
     "text": [
      "              precision    recall  f1-score   support\n",
      "\n",
      "           0       0.00      0.00      0.00       831\n",
      "           1       0.58      1.00      0.74      1169\n",
      "\n",
      "    accuracy                           0.58      2000\n",
      "   macro avg       0.29      0.50      0.37      2000\n",
      "weighted avg       0.34      0.58      0.43      2000\n",
      "\n"
     ]
    }
   ],
   "source": [
    "from sklearn.metrics import classification_report\n",
    "print(classification_report(y_test, y_predict_test))"
   ]
  },
  {
   "cell_type": "markdown",
   "id": "5ff5e28c",
   "metadata": {},
   "source": [
    "### E2. Output and Calculations:\n",
    "Output and calculation above."
   ]
  },
  {
   "cell_type": "markdown",
   "id": "29d36b05",
   "metadata": {},
   "source": [
    "### E3. Code:\n",
    "All code for analysis are above."
   ]
  },
  {
   "cell_type": "markdown",
   "id": "6b2dea42",
   "metadata": {},
   "source": [
    "## Part V: Data Summary and Implications"
   ]
  },
  {
   "cell_type": "markdown",
   "id": "743adfa7",
   "metadata": {},
   "source": [
    "### F1. Results:\n",
    "- The final regression equation for reduced model:\n",
    "\n",
    "y = -6.1973 - 0.0391 * Children + 0.0070 * Age + 0.7970 * DummyTechie - 2.2895 * DummyContract + 0.1598 * DummyPort_modem - 1.4240 * DummyInternetService - 0.3193 * DummyPhone - 0.2964 * DummyMultiple - 0.3303 * DummyOnlineSecurity - 0.5146 * DummyOnlineBackup - 0.4075 * DummyDeviceProtection - 0.3555 * DummyTechSupport - 0.2049 * Tenure + 0.0463 * MonthlyCharge + 0.0013 * Bandwidth_GB_Year\n",
    "\n",
    "- An interpretation of coefficients of the statistically significant variables of the model\n",
    "\n",
    "    - Children- For one unit increase in children, the changes log odds of DummyChurn decrease by 0.0391 units, keeping all other independent variables constant.\n",
    "    - Age - For one unit increase in Age, the changes log odds of DummyChurn will increase by 0.0070 units, keeping all other independent variables constant.\n",
    "    - DummyTechie – For one unit increase in DummyTechie, the changes log odds of DummyChurn will increase 0.7970 units, keeping all other independent variables constant.\n",
    "    - DummyContract – For one unit increase in DummyContract, the changes log odds of DummyChurn will decrease 2.2895 units, keeping all other independent variables constant.\n",
    "    - DummyPort_modem - For one unit increase in DummyPort_modem, the changes log odds of DummyChurn will increase 0.1598 units, keeping all other independent variables constant.\n",
    "    - DummyInternerService – For one unit increase in DummyInternerService, the changes log odds of DummyChurn will decrease by 1.4240 units, Keeping all other independent variables constant.\n",
    "    - DummyPhone - For one unit increase in DummyPhone, the changes log odds of DummyChurn will decrease by 0.3193 units, Keeping all other independent variables constant.\n",
    "    - DummyMultiple - For one unit increase in DummyMultiple, the changes log odds of DummyChurn will decrease by 0.2964 units, Keeping all other independent variables constant.\n",
    "    - DummyOnlineSecurity - For one unit increase in DummyOnlineSecurity, the changes log odds of DummyChurn will decrease by 0.3303 units, Keeping all other independent variables constant.\n",
    "    - DummyOnlineBackup - For one unit increase in DummyOnlineBackup, the changes log odds of DummyChurn will decrease by 0.5146 units, Keeping all other independent variables constant.\n",
    "    - DummyDeviceProtection - For one unit increase in DummyDeviceProtection, the changes log odds ofDummyChurn will decrease by 0.4075 units, Keeping all other independent variables constant.\n",
    "    - DummyTechSupport - For one unit increase in DummyTechSupport, the changes log odds of DummyChurn will decrease by 0.3555 units, Keeping all other independent variables constant.\n",
    "    - Tenure - For one unit increase in Tenure, the changes log odds of DummyChurn will decrease 0.2049 units, Keeping all other independent variables constant.\n",
    "    - MonthlyCharge - For one unit increase in MonthlyCharge, the changes log odds of DummyChurn will increase 0.4063 units, Keeping all other independent variables constant.\n",
    "    - Bandwidth_GB_Year - For one unit increase in Bandwidth_GB_Year, the changes log odds of DummyChurn will increase 0.0013 units, Keeping all other independent variables constant.\n",
    "\n",
    "- The statistical and practical significance of the model:\n",
    "The p-values for all variables are statistically significant at 0.00, while the p-value for DummyPhones, DummyPort_modem and children in 0.006, 0.019 and 0.026 respectively. The model is practically significant because the p-values for all variables are\n",
    "below 0.05.\n",
    "\n",
    "- The limitations of the analysis:\n",
    "The limitations of this analysis are that the data set is a bit small and more past data is need to provide clear understanding.  More investigation is required.\n",
    "\n"
   ]
  },
  {
   "cell_type": "markdown",
   "id": "f2de83cc",
   "metadata": {},
   "source": [
    "###  Sources for Third-Party Code:\n",
    "\n",
    "GeeksForGeeks. ( Jan, 2023). ML | Logistic Regression using Python\n",
    "https://www.geeksforgeeks.org/ml-logistic-regression-using-python/\n"
   ]
  },
  {
   "cell_type": "markdown",
   "id": "ba72a39d",
   "metadata": {},
   "source": [
    "### Sources:\n",
    "\n",
    "GeeksForGeeks. ( Jan, 2023). Understanding Logistic Regression\n",
    "https://www.geeksforgeeks.org/understanding-logistic-regression/\n",
    "\n",
    "Zach. (Oct, 2020). How to Perform Logistic Regression in Python (Step-by-Step)\n",
    "https://www.statology.org/logistic-regression-python/\n",
    "\n",
    "Zach.(October, 2020). The 6 Assumptions of Logistic Regression. https://www.statology.org/assumptions-of-logistic-regression/\n"
   ]
  },
  {
   "cell_type": "code",
   "execution_count": null,
   "id": "f22bfd6a",
   "metadata": {},
   "outputs": [],
   "source": []
  }
 ],
 "metadata": {
  "kernelspec": {
   "display_name": "Python 3 (ipykernel)",
   "language": "python",
   "name": "python3"
  },
  "language_info": {
   "codemirror_mode": {
    "name": "ipython",
    "version": 3
   },
   "file_extension": ".py",
   "mimetype": "text/x-python",
   "name": "python",
   "nbconvert_exporter": "python",
   "pygments_lexer": "ipython3",
   "version": "3.9.13"
  }
 },
 "nbformat": 4,
 "nbformat_minor": 5
}
